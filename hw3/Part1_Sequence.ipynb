{
 "cells": [
  {
   "cell_type": "markdown",
   "metadata": {
    "id": "9xqrWupU2ESJ"
   },
   "source": [
    "$$\n",
    "\\newcommand{\\mat}[1]{\\boldsymbol {#1}}\n",
    "\\newcommand{\\mattr}[1]{\\boldsymbol {#1}^\\top}\n",
    "\\newcommand{\\matinv}[1]{\\boldsymbol {#1}^{-1}}\n",
    "\\newcommand{\\vec}[1]{\\boldsymbol {#1}}\n",
    "\\newcommand{\\vectr}[1]{\\boldsymbol {#1}^\\top}\n",
    "\\newcommand{\\rvar}[1]{\\mathrm {#1}}\n",
    "\\newcommand{\\rvec}[1]{\\boldsymbol{\\mathrm{#1}}}\n",
    "\\newcommand{\\diag}{\\mathop{\\mathrm {diag}}}\n",
    "\\newcommand{\\set}[1]{\\mathbb {#1}}\n",
    "\\newcommand{\\norm}[1]{\\left\\lVert#1\\right\\rVert}\n",
    "\\newcommand{\\pderiv}[2]{\\frac{\\partial #1}{\\partial #2}}\n",
    "\\newcommand{\\bb}[1]{\\boldsymbol{#1}}\n",
    "$$\n",
    "# Part 1: Sequence Models\n",
    "<a id=part1></a>"
   ]
  },
  {
   "cell_type": "code",
   "source": [],
   "metadata": {
    "id": "-mNwk59Y2EzD",
    "executionInfo": {
     "status": "ok",
     "timestamp": 1640375368123,
     "user_tz": -120,
     "elapsed": 372,
     "user": {
      "displayName": "Bar Cohen",
      "photoUrl": "https://lh3.googleusercontent.com/a/default-user=s64",
      "userId": "08466736935148352038"
     }
    }
   },
   "execution_count": 4,
   "outputs": []
  },
  {
   "cell_type": "code",
   "source": [],
   "metadata": {
    "colab": {
     "base_uri": "https://localhost:8080/"
    },
    "id": "laJ3WDtY2F54",
    "executionInfo": {
     "status": "ok",
     "timestamp": 1640375386778,
     "user_tz": -120,
     "elapsed": 18283,
     "user": {
      "displayName": "Bar Cohen",
      "photoUrl": "https://lh3.googleusercontent.com/a/default-user=s64",
      "userId": "08466736935148352038"
     }
    },
    "outputId": "5a0f605b-9945-4051-f2b6-ce215089486e"
   },
   "execution_count": 4,
   "outputs": []
  },
  {
   "cell_type": "code",
   "source": [],
   "metadata": {
    "colab": {
     "base_uri": "https://localhost:8080/"
    },
    "id": "bykEfCrs2Jmy",
    "executionInfo": {
     "status": "ok",
     "timestamp": 1640375387831,
     "user_tz": -120,
     "elapsed": 1059,
     "user": {
      "displayName": "Bar Cohen",
      "photoUrl": "https://lh3.googleusercontent.com/a/default-user=s64",
      "userId": "08466736935148352038"
     }
    },
    "outputId": "6a542cc1-f9d8-4104-ada3-2ac0931ca055"
   },
   "execution_count": 4,
   "outputs": []
  },
  {
   "cell_type": "markdown",
   "metadata": {
    "id": "j8IotZe02ESN"
   },
   "source": [
    "In this part we will learn about working with text sequences using recurrent neural networks.\n",
    "We'll go from a raw text file all the way to a fully trained GRU-RNN model and generate works of art!"
   ]
  },
  {
   "cell_type": "code",
   "execution_count": 5,
   "metadata": {
    "tags": [],
    "id": "fXHpszCM2ESO",
    "executionInfo": {
     "status": "ok",
     "timestamp": 1640375393794,
     "user_tz": -120,
     "elapsed": 5964,
     "user": {
      "displayName": "Bar Cohen",
      "photoUrl": "https://lh3.googleusercontent.com/a/default-user=s64",
      "userId": "08466736935148352038"
     }
    }
   },
   "outputs": [],
   "source": [
    "import unittest\n",
    "import os\n",
    "import sys\n",
    "import pathlib\n",
    "import urllib\n",
    "import shutil\n",
    "import re\n",
    "\n",
    "import numpy as np\n",
    "import torch\n",
    "import matplotlib.pyplot as plt\n",
    "\n",
    "%load_ext autoreload\n",
    "%autoreload 2"
   ]
  },
  {
   "cell_type": "code",
   "execution_count": 6,
   "metadata": {
    "tags": [],
    "colab": {
     "base_uri": "https://localhost:8080/"
    },
    "id": "bGWpsaxZ2ESQ",
    "executionInfo": {
     "status": "ok",
     "timestamp": 1640375394418,
     "user_tz": -120,
     "elapsed": 628,
     "user": {
      "displayName": "Bar Cohen",
      "photoUrl": "https://lh3.googleusercontent.com/a/default-user=s64",
      "userId": "08466736935148352038"
     }
    },
    "outputId": "3884afef-b6e2-4f82-afa1-e2f135b1667c"
   },
   "outputs": [
    {
     "name": "stdout",
     "output_type": "stream",
     "text": [
      "Using device: cpu\n"
     ]
    }
   ],
   "source": [
    "test = unittest.TestCase()\n",
    "plt.rcParams.update({'font.size': 12})\n",
    "device = torch.device('cuda' if torch.cuda.is_available() else 'cpu')\n",
    "print('Using device:', device)"
   ]
  },
  {
   "cell_type": "markdown",
   "metadata": {
    "id": "O9r8rp2W2ESR"
   },
   "source": [
    "## Text generation with a char-level RNN\n",
    "<a id=part1_1></a>"
   ]
  },
  {
   "cell_type": "markdown",
   "metadata": {
    "id": "DHVVX4Dc2ESR"
   },
   "source": [
    "### Obtaining the corpus\n",
    "<a id=part1_2></a>"
   ]
  },
  {
   "cell_type": "markdown",
   "metadata": {
    "id": "oqCwpZkY2ESS"
   },
   "source": [
    "Let's begin by downloading a corpus containing all the works of William Shakespeare.\n",
    "Since he was very prolific, this corpus is fairly large and will provide us with enough data for\n",
    "obtaining impressive results."
   ]
  },
  {
   "cell_type": "code",
   "execution_count": 7,
   "metadata": {
    "tags": [],
    "colab": {
     "base_uri": "https://localhost:8080/"
    },
    "id": "y47xJjiZ2EST",
    "executionInfo": {
     "status": "ok",
     "timestamp": 1640375394899,
     "user_tz": -120,
     "elapsed": 486,
     "user": {
      "displayName": "Bar Cohen",
      "photoUrl": "https://lh3.googleusercontent.com/a/default-user=s64",
      "userId": "08466736935148352038"
     }
    },
    "outputId": "1c243d13-0e68-4f68-d491-a60822d63083"
   },
   "outputs": [
    {
     "name": "stdout",
     "output_type": "stream",
     "text": [
      "Corpus file C:\\Users\\x3yusk\\.pytorch-datasets\\shakespeare.txt exists, skipping download.\n"
     ]
    }
   ],
   "source": [
    "CORPUS_URL = 'https://github.com/cedricdeboom/character-level-rnn-datasets/raw/master/datasets/shakespeare.txt'\n",
    "DATA_DIR = pathlib.Path.home().joinpath('.pytorch-datasets')\n",
    "\n",
    "def download_corpus(out_path=DATA_DIR, url=CORPUS_URL, force=False):\n",
    "    pathlib.Path(out_path).mkdir(exist_ok=True)\n",
    "    out_filename = os.path.join(out_path, os.path.basename(url))\n",
    "    \n",
    "    if os.path.isfile(out_filename) and not force:\n",
    "        print(f'Corpus file {out_filename} exists, skipping download.')\n",
    "    else:\n",
    "        print(f'Downloading {url}...')\n",
    "        with urllib.request.urlopen(url) as response, open(out_filename, 'wb') as out_file:\n",
    "            shutil.copyfileobj(response, out_file)\n",
    "        print(f'Saved to {out_filename}.')\n",
    "    return out_filename\n",
    "    \n",
    "corpus_path = download_corpus()"
   ]
  },
  {
   "cell_type": "markdown",
   "metadata": {
    "id": "odMgUm_S2ESW"
   },
   "source": [
    "Load the text into memory and print a snippet:"
   ]
  },
  {
   "cell_type": "code",
   "execution_count": 8,
   "metadata": {
    "tags": [],
    "colab": {
     "base_uri": "https://localhost:8080/"
    },
    "id": "7UU1VV5w2ESX",
    "executionInfo": {
     "status": "ok",
     "timestamp": 1640375394900,
     "user_tz": -120,
     "elapsed": 8,
     "user": {
      "displayName": "Bar Cohen",
      "photoUrl": "https://lh3.googleusercontent.com/a/default-user=s64",
      "userId": "08466736935148352038"
     }
    },
    "outputId": "75b44382-5a20-4bc7-ddad-d4aaee8a218e"
   },
   "outputs": [
    {
     "name": "stdout",
     "output_type": "stream",
     "text": [
      "Corpus length: 6347703 chars\n",
      "ALLS WELL THAT ENDS WELL\n",
      "\n",
      "by William Shakespeare\n",
      "\n",
      "Dramatis Personae\n",
      "\n",
      "  KING OF FRANCE\n",
      "  THE DUKE OF FLORENCE\n",
      "  BERTRAM, Count of Rousillon\n",
      "  LAFEU, an old lord\n",
      "  PAROLLES, a follower of Bertram\n",
      "  TWO FRENCH LORDS, serving with Bertram\n",
      "\n",
      "  STEWARD, Servant to the Countess of Rousillon\n",
      "  LAVACHE, a clown and Servant to the Countess of Rousillon\n",
      "  A PAGE, Servant to the Countess of Rousillon\n",
      "\n",
      "  COUNTESS OF ROUSILLON, mother to Bertram\n",
      "  HELENA, a gentlewoman protected by the Countess\n",
      "  A WIDOW OF FLORENCE.\n",
      "  DIANA, daughter to the Widow\n",
      "\n",
      "  VIOLENTA, neighbour and friend to the Widow\n",
      "  MARIANA, neighbour and friend to the Widow\n",
      "\n",
      "  Lords, Officers, Soldiers, etc., French and Florentine  \n",
      "\n",
      "SCENE:\n",
      "Rousillon; Paris; Florence; Marseilles\n",
      "\n",
      "ACT I. SCENE 1.\n",
      "Rousillon. The COUNT'S palace\n",
      "\n",
      "Enter BERTRAM, the COUNTESS OF ROUSILLON, HELENA, and LAFEU, all in black\n",
      "\n",
      "  COUNTESS. In delivering my son from me, I bury a second husband.\n",
      "  BERTRAM. And I in going, madam, weep o'er my father's death anew;\n",
      "    but I must attend his Majesty's command, to whom I am now in\n",
      "    ward, evermore in subjection.\n",
      "  LAFEU. You shall find of the King a husband, madam; you, sir, a\n",
      "    father. He that so generally is at all times good must of\n",
      "    \n"
     ]
    }
   ],
   "source": [
    "with open(corpus_path, 'r', encoding='utf-8') as f:\n",
    "    corpus = f.read()\n",
    "\n",
    "print(f'Corpus length: {len(corpus)} chars')\n",
    "print(corpus[7:1234])"
   ]
  },
  {
   "cell_type": "markdown",
   "metadata": {
    "id": "metoWpTc2ESY"
   },
   "source": [
    "### Data Preprocessing\n",
    "<a id=part1_3></a>"
   ]
  },
  {
   "cell_type": "markdown",
   "metadata": {
    "id": "UOR-1fZs2ESY"
   },
   "source": [
    "The first thing we'll need is to map from each unique character in the corpus to an index that will represent it in our learning process.\n",
    "\n",
    "**TODO**: Implement the `char_maps()` function in the `hw3/charnn.py` module."
   ]
  },
  {
   "cell_type": "code",
   "execution_count": 9,
   "metadata": {
    "tags": [],
    "colab": {
     "base_uri": "https://localhost:8080/"
    },
    "id": "L4dM1FH42ESZ",
    "executionInfo": {
     "status": "ok",
     "timestamp": 1640375396249,
     "user_tz": -120,
     "elapsed": 1353,
     "user": {
      "displayName": "Bar Cohen",
      "photoUrl": "https://lh3.googleusercontent.com/a/default-user=s64",
      "userId": "08466736935148352038"
     }
    },
    "outputId": "2026462b-c3b9-4df4-cc8a-a9c9e2d00bf8"
   },
   "outputs": [
    {
     "name": "stdout",
     "output_type": "stream",
     "text": [
      "{'\\n': 0, ' ': 1, '!': 2, '\"': 3, '$': 4, '&': 5, \"'\": 6, '(': 7, ')': 8, ',': 9, '-': 10, '.': 11, '0': 12, '1': 13, '2': 14, '3': 15, '4': 16, '5': 17, '6': 18, '7': 19, '8': 20, '9': 21, ':': 22, ';': 23, '<': 24, '?': 25, 'A': 26, 'B': 27, 'C': 28, 'D': 29, 'E': 30, 'F': 31, 'G': 32, 'H': 33, 'I': 34, 'J': 35, 'K': 36, 'L': 37, 'M': 38, 'N': 39, 'O': 40, 'P': 41, 'Q': 42, 'R': 43, 'S': 44, 'T': 45, 'U': 46, 'V': 47, 'W': 48, 'X': 49, 'Y': 50, 'Z': 51, '[': 52, ']': 53, '_': 54, 'a': 55, 'b': 56, 'c': 57, 'd': 58, 'e': 59, 'f': 60, 'g': 61, 'h': 62, 'i': 63, 'j': 64, 'k': 65, 'l': 66, 'm': 67, 'n': 68, 'o': 69, 'p': 70, 'q': 71, 'r': 72, 's': 73, 't': 74, 'u': 75, 'v': 76, 'w': 77, 'x': 78, 'y': 79, 'z': 80, '}': 81, '\\ufeff': 82}\n"
     ]
    }
   ],
   "source": [
    "import hw3.charnn as charnn\n",
    "\n",
    "char_to_idx, idx_to_char = charnn.char_maps(corpus)\n",
    "print(char_to_idx)\n",
    "\n",
    "test.assertEqual(len(char_to_idx), len(idx_to_char))\n",
    "test.assertSequenceEqual(list(char_to_idx.keys()), list(idx_to_char.values()))\n",
    "test.assertSequenceEqual(list(char_to_idx.values()), list(idx_to_char.keys()))"
   ]
  },
  {
   "cell_type": "markdown",
   "metadata": {
    "id": "Y4SqcZ922ESZ"
   },
   "source": [
    "Seems we have some strange characters in the corpus that are very rare and are probably due to mistakes.\n",
    "To reduce the length of each tensor we'll need to later represent our chars, it's best to remove them.\n",
    "\n",
    "**TODO**: Implement the `remove_chars()` function in the `hw3/charnn.py` module."
   ]
  },
  {
   "cell_type": "code",
   "execution_count": 10,
   "metadata": {
    "tags": [],
    "colab": {
     "base_uri": "https://localhost:8080/"
    },
    "id": "3E1jrgAl2ESZ",
    "executionInfo": {
     "status": "ok",
     "timestamp": 1640375396725,
     "user_tz": -120,
     "elapsed": 478,
     "user": {
      "displayName": "Bar Cohen",
      "photoUrl": "https://lh3.googleusercontent.com/a/default-user=s64",
      "userId": "08466736935148352038"
     }
    },
    "outputId": "f6a56dfa-8d5a-4ea3-fe9a-e4954d9f0fbe"
   },
   "outputs": [
    {
     "name": "stdout",
     "output_type": "stream",
     "text": [
      "Removed 34 chars\n"
     ]
    }
   ],
   "source": [
    "corpus, n_removed = charnn.remove_chars(corpus, ['}','$','_','<','\\ufeff'])\n",
    "print(f'Removed {n_removed} chars')\n",
    "\n",
    "# After removing the chars, re-create the mappings\n",
    "char_to_idx, idx_to_char = charnn.char_maps(corpus)"
   ]
  },
  {
   "cell_type": "markdown",
   "metadata": {
    "id": "bxRHsM6f2ESa"
   },
   "source": [
    "The next thing we need is an **embedding** of the chracters.\n",
    "An embedding is a representation of each token from the sequence as a tensor.\n",
    "For a char-level RNN, our tokens will be chars and we can thus use the simplest possible embedding: encode each char as a **one-hot** tensor. In other words, each char will be represented\n",
    "as a tensor whos length is the total number of unique chars (`V`) which contains all zeros except at the index\n",
    "corresponding to that specific char.\n",
    "\n",
    "**TODO**: Implement the functions `chars_to_onehot()` and `onehot_to_chars()` in the `hw3/charnn.py` module."
   ]
  },
  {
   "cell_type": "code",
   "execution_count": 11,
   "metadata": {
    "execution": {
     "iopub.execute_input": "2021-01-22T10:38:28.934809Z",
     "iopub.status.busy": "2021-01-22T10:38:28.934301Z",
     "iopub.status.idle": "2021-01-22T10:38:28.969076Z",
     "shell.execute_reply": "2021-01-22T10:38:28.969799Z"
    },
    "colab": {
     "base_uri": "https://localhost:8080/"
    },
    "id": "-xJXGVtz2ESa",
    "executionInfo": {
     "status": "ok",
     "timestamp": 1640375396726,
     "user_tz": -120,
     "elapsed": 9,
     "user": {
      "displayName": "Bar Cohen",
      "photoUrl": "https://lh3.googleusercontent.com/a/default-user=s64",
      "userId": "08466736935148352038"
     }
    },
    "outputId": "8f293f3f-8222-4130-e670-4b1f4b24bb8c"
   },
   "outputs": [
    {
     "name": "stdout",
     "output_type": "stream",
     "text": [
      "brine a maiden can season her praise in.\n",
      "   \n",
      "tensor([[0, 0, 0, 0, 0, 0, 0, 0, 0, 0, 0, 0, 0, 0, 0, 0, 0, 0, 0, 0, 0, 0, 0, 0,\n",
      "         0, 0, 0, 0, 0, 0, 0, 0, 0, 0, 0, 0, 0, 0, 0, 0, 0, 0, 0, 0, 0, 0, 0, 0,\n",
      "         0, 0, 0, 0, 0, 1, 0, 0, 0, 0, 0, 0, 0, 0, 0, 0, 0, 0, 0, 0, 0, 0, 0, 0,\n",
      "         0, 0, 0, 0, 0, 0],\n",
      "        [0, 0, 0, 0, 0, 0, 0, 0, 0, 0, 0, 0, 0, 0, 0, 0, 0, 0, 0, 0, 0, 0, 0, 0,\n",
      "         0, 0, 0, 0, 0, 0, 0, 0, 0, 0, 0, 0, 0, 0, 0, 0, 0, 0, 0, 0, 0, 0, 0, 0,\n",
      "         0, 0, 0, 0, 0, 0, 0, 0, 0, 0, 0, 0, 0, 0, 0, 0, 0, 0, 0, 0, 0, 1, 0, 0,\n",
      "         0, 0, 0, 0, 0, 0],\n",
      "        [0, 0, 0, 0, 0, 0, 0, 0, 0, 0, 0, 0, 0, 0, 0, 0, 0, 0, 0, 0, 0, 0, 0, 0,\n",
      "         0, 0, 0, 0, 0, 0, 0, 0, 0, 0, 0, 0, 0, 0, 0, 0, 0, 0, 0, 0, 0, 0, 0, 0,\n",
      "         0, 0, 0, 0, 0, 0, 0, 0, 0, 0, 0, 0, 1, 0, 0, 0, 0, 0, 0, 0, 0, 0, 0, 0,\n",
      "         0, 0, 0, 0, 0, 0]], dtype=torch.int8)\n"
     ]
    },
    {
     "name": "stderr",
     "output_type": "stream",
     "text": [
      "C:\\Workdir\\DL class\\DL_class\\hw3\\hw3\\charnn.py:85: UserWarning: This overload of nonzero is deprecated:\n",
      "\tnonzero()\n",
      "Consider using one of the following signatures instead:\n",
      "\tnonzero(*, bool as_tuple) (Triggered internally at  ..\\torch\\csrc\\utils\\python_arg_parser.cpp:766.)\n",
      "  idx = ((embedded_text == 1).nonzero()[:, 1]).tolist()\n"
     ]
    }
   ],
   "source": [
    "# Wrap the actual embedding functions for calling convenience\n",
    "def embed(text):\n",
    "    return charnn.chars_to_onehot(text, char_to_idx)\n",
    "\n",
    "def unembed(embedding):\n",
    "    return charnn.onehot_to_chars(embedding, idx_to_char)\n",
    "\n",
    "text_snippet = corpus[3104:3148]\n",
    "print(text_snippet)\n",
    "print(embed(text_snippet[0:3]))\n",
    "\n",
    "test.assertEqual(text_snippet, unembed(embed(text_snippet)))\n",
    "test.assertEqual(embed(text_snippet).dtype, torch.int8)"
   ]
  },
  {
   "cell_type": "markdown",
   "metadata": {
    "id": "GalbvU-m2ESa"
   },
   "source": [
    "### Dataset Creation\n",
    "<a id=part1_4></a>"
   ]
  },
  {
   "cell_type": "markdown",
   "metadata": {
    "id": "6xE6O9TQ2ESb"
   },
   "source": [
    "We wish to train our model to generate text by constantly predicting what the next char should be based on the past.\n",
    "To that end we'll need to train our recurrent network in a way similar to a classification task. At each timestep, we input a char and set the expected output (label) to be the next char in the original sequence.\n",
    "\n",
    "We will split our corpus into shorter sequences of length `S` chars (see question below).\n",
    "Each **sample** we provide our model with will therefore be a tensor of shape `(S,V)` where `V` is the embedding dimension. Our model will operate sequentially on each char in the sequence.\n",
    "For each sample, we'll also need a **label**. This is simply another sequence, shifted by one char so that the label of each char is the next char in the corpus."
   ]
  },
  {
   "cell_type": "markdown",
   "metadata": {
    "id": "HlWrlqsb2ESb"
   },
   "source": [
    "**TODO**: Implement the `chars_to_labelled_samples()` function in the `hw3/charnn.py` module."
   ]
  },
  {
   "cell_type": "code",
   "execution_count": 12,
   "metadata": {
    "execution": {
     "iopub.execute_input": "2021-01-22T10:38:28.975906Z",
     "iopub.status.busy": "2021-01-22T10:38:28.975377Z",
     "iopub.status.idle": "2021-01-22T10:38:31.834508Z",
     "shell.execute_reply": "2021-01-22T10:38:31.834983Z"
    },
    "colab": {
     "base_uri": "https://localhost:8080/"
    },
    "id": "-nA9oo142ESb",
    "executionInfo": {
     "status": "ok",
     "timestamp": 1640375436728,
     "user_tz": -120,
     "elapsed": 40008,
     "user": {
      "displayName": "Bar Cohen",
      "photoUrl": "https://lh3.googleusercontent.com/a/default-user=s64",
      "userId": "08466736935148352038"
     }
    },
    "outputId": "680432c0-d48f-4c0f-dc23-eeeaa73e0e32"
   },
   "outputs": [
    {
     "name": "stdout",
     "output_type": "stream",
     "text": [
      "yo\n",
      "samples shape: torch.Size([99182, 64, 78])\n",
      "labels shape: torch.Size([99182, 64])\n",
      "0\n",
      "1\n",
      "2\n",
      "3\n",
      "4\n",
      "5\n",
      "6\n",
      "7\n",
      "8\n",
      "9\n",
      "10\n",
      "11\n",
      "12\n",
      "13\n",
      "14\n",
      "15\n",
      "16\n",
      "17\n",
      "18\n",
      "19\n",
      "20\n",
      "21\n",
      "22\n",
      "23\n",
      "24\n",
      "25\n",
      "26\n",
      "27\n",
      "28\n",
      "29\n",
      "30\n",
      "31\n",
      "32\n",
      "33\n",
      "34\n",
      "35\n",
      "36\n",
      "37\n",
      "38\n",
      "39\n",
      "40\n",
      "41\n",
      "42\n",
      "43\n",
      "44\n",
      "45\n",
      "46\n",
      "47\n",
      "48\n",
      "49\n",
      "50\n",
      "51\n",
      "52\n",
      "53\n",
      "54\n",
      "55\n",
      "56\n",
      "57\n",
      "58\n",
      "59\n",
      "60\n",
      "61\n",
      "62\n",
      "63\n",
      "64\n",
      "65\n",
      "66\n",
      "67\n",
      "68\n",
      "69\n",
      "70\n",
      "71\n",
      "72\n",
      "73\n",
      "74\n",
      "75\n",
      "76\n",
      "77\n",
      "78\n",
      "79\n",
      "80\n",
      "81\n",
      "82\n",
      "83\n",
      "84\n",
      "85\n",
      "86\n",
      "87\n",
      "88\n",
      "89\n",
      "90\n",
      "91\n",
      "92\n",
      "93\n",
      "94\n",
      "95\n",
      "96\n",
      "97\n",
      "98\n",
      "99\n",
      "100\n",
      "101\n",
      "102\n",
      "103\n",
      "104\n",
      "105\n",
      "106\n",
      "107\n",
      "108\n",
      "109\n",
      "110\n",
      "111\n",
      "112\n",
      "113\n",
      "114\n",
      "115\n",
      "116\n",
      "117\n",
      "118\n",
      "119\n",
      "120\n",
      "121\n",
      "122\n",
      "123\n",
      "124\n",
      "125\n",
      "126\n",
      "127\n",
      "128\n",
      "129\n",
      "130\n",
      "131\n",
      "132\n",
      "133\n",
      "134\n",
      "135\n",
      "136\n",
      "137\n",
      "138\n",
      "139\n",
      "140\n",
      "141\n",
      "142\n",
      "143\n",
      "144\n",
      "145\n",
      "146\n",
      "147\n",
      "148\n",
      "149\n",
      "150\n",
      "151\n",
      "152\n",
      "153\n",
      "154\n",
      "155\n",
      "156\n",
      "157\n",
      "158\n",
      "159\n",
      "160\n",
      "161\n",
      "162\n",
      "163\n",
      "164\n",
      "165\n",
      "166\n",
      "167\n",
      "168\n",
      "169\n",
      "170\n",
      "171\n",
      "172\n",
      "173\n",
      "174\n",
      "175\n",
      "176\n",
      "177\n",
      "178\n",
      "179\n",
      "180\n",
      "181\n",
      "182\n",
      "183\n",
      "184\n",
      "185\n",
      "186\n",
      "187\n",
      "188\n",
      "189\n",
      "190\n",
      "191\n",
      "192\n",
      "193\n",
      "194\n",
      "195\n",
      "196\n",
      "197\n",
      "198\n",
      "199\n",
      "200\n",
      "201\n",
      "202\n",
      "203\n",
      "204\n",
      "205\n",
      "206\n",
      "207\n",
      "208\n",
      "209\n",
      "210\n",
      "211\n",
      "212\n",
      "213\n",
      "214\n",
      "215\n",
      "216\n",
      "217\n",
      "218\n",
      "219\n",
      "220\n",
      "221\n",
      "222\n",
      "223\n",
      "224\n",
      "225\n",
      "226\n",
      "227\n",
      "228\n",
      "229\n",
      "230\n",
      "231\n",
      "232\n",
      "233\n",
      "234\n",
      "235\n",
      "236\n",
      "237\n",
      "238\n",
      "239\n",
      "240\n",
      "241\n",
      "242\n",
      "243\n",
      "244\n",
      "245\n",
      "246\n",
      "247\n",
      "248\n",
      "249\n",
      "250\n",
      "251\n",
      "252\n",
      "253\n",
      "254\n",
      "255\n",
      "256\n",
      "257\n",
      "258\n",
      "259\n",
      "260\n",
      "261\n",
      "262\n",
      "263\n",
      "264\n",
      "265\n",
      "266\n",
      "267\n",
      "268\n",
      "269\n",
      "270\n",
      "271\n",
      "272\n",
      "273\n",
      "274\n",
      "275\n",
      "276\n",
      "277\n",
      "278\n",
      "279\n",
      "280\n",
      "281\n",
      "282\n",
      "283\n",
      "284\n",
      "285\n",
      "286\n",
      "287\n",
      "288\n",
      "289\n",
      "290\n",
      "291\n",
      "292\n",
      "293\n",
      "294\n",
      "295\n",
      "296\n",
      "297\n",
      "298\n",
      "299\n",
      "300\n",
      "301\n",
      "302\n",
      "303\n",
      "304\n",
      "305\n",
      "306\n",
      "307\n",
      "308\n",
      "309\n",
      "310\n",
      "311\n",
      "312\n",
      "313\n",
      "314\n",
      "315\n",
      "316\n",
      "317\n",
      "318\n",
      "319\n",
      "320\n",
      "321\n",
      "322\n",
      "323\n",
      "324\n",
      "325\n",
      "326\n",
      "327\n",
      "328\n",
      "329\n",
      "330\n",
      "331\n",
      "332\n",
      "333\n",
      "334\n",
      "335\n",
      "336\n",
      "337\n",
      "338\n",
      "339\n",
      "340\n",
      "341\n",
      "342\n",
      "343\n",
      "344\n",
      "345\n",
      "346\n",
      "347\n",
      "348\n",
      "349\n",
      "350\n",
      "351\n",
      "352\n",
      "353\n",
      "354\n",
      "355\n",
      "356\n",
      "357\n",
      "358\n",
      "359\n",
      "360\n",
      "361\n",
      "362\n",
      "363\n",
      "364\n",
      "365\n",
      "366\n",
      "367\n",
      "368\n",
      "369\n",
      "370\n",
      "371\n",
      "372\n",
      "373\n",
      "374\n",
      "375\n",
      "376\n",
      "377\n",
      "378\n",
      "379\n",
      "380\n",
      "381\n",
      "382\n",
      "383\n",
      "384\n",
      "385\n",
      "386\n",
      "387\n",
      "388\n",
      "389\n",
      "390\n",
      "391\n",
      "392\n",
      "393\n",
      "394\n",
      "395\n",
      "396\n",
      "397\n",
      "398\n",
      "399\n",
      "400\n",
      "401\n",
      "402\n",
      "403\n",
      "404\n",
      "405\n",
      "406\n",
      "407\n",
      "408\n",
      "409\n",
      "410\n",
      "411\n",
      "412\n",
      "413\n",
      "414\n",
      "415\n",
      "416\n",
      "417\n",
      "418\n",
      "419\n",
      "420\n",
      "421\n",
      "422\n",
      "423\n",
      "424\n",
      "425\n",
      "426\n",
      "427\n",
      "428\n",
      "429\n",
      "430\n",
      "431\n",
      "432\n",
      "433\n",
      "434\n",
      "435\n",
      "436\n",
      "437\n",
      "438\n",
      "439\n",
      "440\n",
      "441\n",
      "442\n",
      "443\n",
      "444\n",
      "445\n",
      "446\n",
      "447\n",
      "448\n",
      "449\n",
      "450\n",
      "451\n",
      "452\n",
      "453\n",
      "454\n",
      "455\n",
      "456\n",
      "457\n",
      "458\n",
      "459\n",
      "460\n",
      "461\n",
      "462\n",
      "463\n",
      "464\n",
      "465\n",
      "466\n",
      "467\n",
      "468\n",
      "469\n",
      "470\n",
      "471\n",
      "472\n",
      "473\n",
      "474\n",
      "475\n",
      "476\n",
      "477\n",
      "478\n",
      "479\n",
      "480\n",
      "481\n",
      "482\n",
      "483\n",
      "484\n",
      "485\n",
      "486\n",
      "487\n",
      "488\n",
      "489\n",
      "490\n",
      "491\n",
      "492\n",
      "493\n",
      "494\n",
      "495\n",
      "496\n",
      "497\n",
      "498\n",
      "499\n",
      "500\n",
      "501\n",
      "502\n",
      "503\n",
      "504\n",
      "505\n",
      "506\n",
      "507\n",
      "508\n",
      "509\n",
      "510\n",
      "511\n",
      "512\n",
      "513\n",
      "514\n",
      "515\n",
      "516\n",
      "517\n",
      "518\n",
      "519\n",
      "520\n",
      "521\n",
      "522\n",
      "523\n",
      "524\n",
      "525\n",
      "526\n",
      "527\n",
      "528\n",
      "529\n",
      "530\n",
      "531\n",
      "532\n",
      "533\n",
      "534\n",
      "535\n",
      "536\n",
      "537\n",
      "538\n",
      "539\n",
      "540\n",
      "541\n",
      "542\n",
      "543\n",
      "544\n",
      "545\n",
      "546\n",
      "547\n",
      "548\n",
      "549\n",
      "550\n",
      "551\n",
      "552\n",
      "553\n",
      "554\n",
      "555\n",
      "556\n",
      "557\n",
      "558\n",
      "559\n",
      "560\n",
      "561\n",
      "562\n",
      "563\n",
      "564\n",
      "565\n",
      "566\n",
      "567\n",
      "568\n",
      "569\n",
      "570\n",
      "571\n",
      "572\n",
      "573\n",
      "574\n",
      "575\n",
      "576\n",
      "577\n",
      "578\n",
      "579\n",
      "580\n",
      "581\n",
      "582\n",
      "583\n",
      "584\n",
      "585\n",
      "586\n",
      "587\n",
      "588\n",
      "589\n",
      "590\n",
      "591\n",
      "592\n",
      "593\n",
      "594\n",
      "595\n",
      "596\n",
      "597\n",
      "598\n",
      "599\n",
      "600\n",
      "601\n",
      "602\n",
      "603\n",
      "604\n",
      "605\n",
      "606\n",
      "607\n",
      "608\n",
      "609\n",
      "610\n",
      "611\n",
      "612\n",
      "613\n",
      "614\n",
      "615\n",
      "616\n",
      "617\n",
      "618\n",
      "619\n",
      "620\n",
      "621\n",
      "622\n",
      "623\n",
      "624\n",
      "625\n",
      "626\n",
      "627\n",
      "628\n",
      "629\n",
      "630\n",
      "631\n",
      "632\n",
      "633\n",
      "634\n",
      "635\n",
      "636\n",
      "637\n",
      "638\n",
      "639\n",
      "640\n",
      "641\n",
      "642\n",
      "643\n",
      "644\n",
      "645\n",
      "646\n",
      "647\n",
      "648\n",
      "649\n",
      "650\n",
      "651\n",
      "652\n",
      "653\n",
      "654\n",
      "655\n",
      "656\n",
      "657\n",
      "658\n",
      "659\n",
      "660\n",
      "661\n",
      "662\n",
      "663\n",
      "664\n",
      "665\n",
      "666\n",
      "667\n",
      "668\n",
      "669\n",
      "670\n",
      "671\n",
      "672\n",
      "673\n",
      "674\n",
      "675\n",
      "676\n",
      "677\n",
      "678\n",
      "679\n",
      "680\n",
      "681\n",
      "682\n",
      "683\n",
      "684\n",
      "685\n",
      "686\n",
      "687\n",
      "688\n",
      "689\n",
      "690\n",
      "691\n",
      "692\n",
      "693\n",
      "694\n",
      "695\n",
      "696\n",
      "697\n",
      "698\n",
      "699\n",
      "700\n",
      "701\n",
      "702\n",
      "703\n",
      "704\n",
      "705\n",
      "706\n",
      "707\n",
      "708\n",
      "709\n",
      "710\n",
      "711\n",
      "712\n",
      "713\n",
      "714\n",
      "715\n",
      "716\n",
      "717\n",
      "718\n",
      "719\n",
      "720\n",
      "721\n",
      "722\n",
      "723\n",
      "724\n",
      "725\n",
      "726\n",
      "727\n",
      "728\n",
      "729\n",
      "730\n",
      "731\n",
      "732\n",
      "733\n",
      "734\n",
      "735\n",
      "736\n",
      "737\n",
      "738\n",
      "739\n",
      "740\n",
      "741\n",
      "742\n",
      "743\n",
      "744\n",
      "745\n",
      "746\n",
      "747\n",
      "748\n",
      "749\n",
      "750\n",
      "751\n",
      "752\n",
      "753\n",
      "754\n",
      "755\n",
      "756\n",
      "757\n",
      "758\n",
      "759\n",
      "760\n",
      "761\n",
      "762\n",
      "763\n",
      "764\n",
      "765\n",
      "766\n",
      "767\n",
      "768\n",
      "769\n",
      "770\n",
      "771\n",
      "772\n",
      "773\n",
      "774\n",
      "775\n",
      "776\n",
      "777\n",
      "778\n",
      "779\n",
      "780\n",
      "781\n",
      "782\n",
      "783\n",
      "784\n",
      "785\n",
      "786\n",
      "787\n",
      "788\n",
      "789\n",
      "790\n",
      "791\n",
      "792\n",
      "793\n",
      "794\n",
      "795\n",
      "796\n",
      "797\n",
      "798\n",
      "799\n",
      "800\n",
      "801\n",
      "802\n",
      "803\n",
      "804\n",
      "805\n",
      "806\n",
      "807\n",
      "808\n",
      "809\n",
      "810\n",
      "811\n",
      "812\n",
      "813\n",
      "814\n",
      "815\n",
      "816\n",
      "817\n",
      "818\n",
      "819\n",
      "820\n",
      "821\n",
      "822\n",
      "823\n",
      "824\n",
      "825\n",
      "826\n",
      "827\n",
      "828\n",
      "829\n",
      "830\n",
      "831\n",
      "832\n",
      "833\n",
      "834\n",
      "835\n",
      "836\n",
      "837\n",
      "838\n",
      "839\n",
      "840\n",
      "841\n",
      "842\n",
      "843\n",
      "844\n",
      "845\n",
      "846\n",
      "847\n",
      "848\n",
      "849\n",
      "850\n",
      "851\n",
      "852\n",
      "853\n",
      "854\n",
      "855\n",
      "856\n",
      "857\n",
      "858\n",
      "859\n",
      "860\n",
      "861\n",
      "862\n",
      "863\n",
      "864\n",
      "865\n",
      "866\n",
      "867\n",
      "868\n",
      "869\n",
      "870\n",
      "871\n",
      "872\n",
      "873\n",
      "874\n",
      "875\n",
      "876\n",
      "877\n",
      "878\n",
      "879\n",
      "880\n",
      "881\n",
      "882\n",
      "883\n",
      "884\n",
      "885\n",
      "886\n",
      "887\n",
      "888\n",
      "889\n",
      "890\n",
      "891\n",
      "892\n",
      "893\n",
      "894\n",
      "895\n",
      "896\n",
      "897\n",
      "898\n",
      "899\n",
      "900\n",
      "901\n",
      "902\n",
      "903\n",
      "904\n",
      "905\n",
      "906\n",
      "907\n",
      "908\n",
      "909\n",
      "910\n",
      "911\n",
      "912\n",
      "913\n",
      "914\n",
      "915\n",
      "916\n",
      "917\n",
      "918\n",
      "919\n",
      "920\n",
      "921\n",
      "922\n",
      "923\n",
      "924\n",
      "925\n",
      "926\n",
      "927\n",
      "928\n",
      "929\n",
      "930\n",
      "931\n",
      "932\n",
      "933\n",
      "934\n",
      "935\n",
      "936\n",
      "937\n",
      "938\n",
      "939\n",
      "940\n",
      "941\n",
      "942\n",
      "943\n",
      "944\n",
      "945\n",
      "946\n",
      "947\n",
      "948\n",
      "949\n",
      "950\n",
      "951\n",
      "952\n",
      "953\n",
      "954\n",
      "955\n",
      "956\n",
      "957\n",
      "958\n",
      "959\n",
      "960\n",
      "961\n",
      "962\n",
      "963\n",
      "964\n",
      "965\n",
      "966\n",
      "967\n",
      "968\n",
      "969\n",
      "970\n",
      "971\n",
      "972\n",
      "973\n",
      "974\n",
      "975\n",
      "976\n",
      "977\n",
      "978\n",
      "979\n",
      "980\n",
      "981\n",
      "982\n",
      "983\n",
      "984\n",
      "985\n",
      "986\n",
      "987\n",
      "988\n",
      "989\n",
      "990\n",
      "991\n",
      "992\n",
      "993\n",
      "994\n",
      "995\n",
      "996\n",
      "997\n",
      "998\n",
      "999\n"
     ]
    }
   ],
   "source": [
    "# Create dataset of sequences\n",
    "seq_len = 64\n",
    "vocab_len = len(char_to_idx)\n",
    "print('yo')\n",
    "# Create labelled samples\n",
    "samples, labels = charnn.chars_to_labelled_samples(corpus, char_to_idx, seq_len, device)\n",
    "print(f'samples shape: {samples.shape}')\n",
    "print(f'labels shape: {labels.shape}')\n",
    "\n",
    "# Test shapes\n",
    "num_samples = (len(corpus) - 1) // seq_len\n",
    "test.assertEqual(samples.shape, (num_samples, seq_len, vocab_len))\n",
    "test.assertEqual(labels.shape, (num_samples, seq_len))\n",
    "\n",
    "# Test content\n",
    "for r in range(1000):\n",
    "    print(r)\n",
    "    # random sample\n",
    "    i = np.random.randint(num_samples, size=(1,))[0]\n",
    "    # Compare to corpus\n",
    "    test.assertEqual(unembed(samples[i]), corpus[i*seq_len:(i+1)*seq_len], msg=f\"content mismatch in sample {i}\")\n",
    "    # Compare to labels\n",
    "    sample_text = unembed(samples[i])\n",
    "    label_text = str.join('', [idx_to_char[j.item()] for j in labels[i]])\n",
    "    test.assertEqual(sample_text[1:], label_text[0:-1], msg=f\"label mismatch in sample {i}\")"
   ]
  },
  {
   "cell_type": "markdown",
   "metadata": {
    "id": "Dg29ioG12ESb"
   },
   "source": [
    "Let's print a few consecutive samples. You should see that the text continues between them."
   ]
  },
  {
   "cell_type": "code",
   "execution_count": 13,
   "metadata": {
    "execution": {
     "iopub.execute_input": "2021-01-22T10:38:31.839059Z",
     "iopub.status.busy": "2021-01-22T10:38:31.838370Z",
     "iopub.status.idle": "2021-01-22T10:38:31.860310Z",
     "shell.execute_reply": "2021-01-22T10:38:31.860806Z"
    },
    "colab": {
     "base_uri": "https://localhost:8080/"
    },
    "id": "VaRSefRM2ESc",
    "executionInfo": {
     "status": "ok",
     "timestamp": 1640375436728,
     "user_tz": -120,
     "elapsed": 7,
     "user": {
      "displayName": "Bar Cohen",
      "photoUrl": "https://lh3.googleusercontent.com/a/default-user=s64",
      "userId": "08466736935148352038"
     }
    },
    "outputId": "3328f470-73f9-4c39-c387-1fde5465ed4b"
   },
   "outputs": [
    {
     "name": "stdout",
     "output_type": "stream",
     "text": [
      "sample [57722]:\n",
      "\tproceed To swear him in the justice of his cause. MARSHAL.\n",
      "sample [57723]:\n",
      "\tIn God's name and the King's, say who thou art, And why t\n",
      "sample [57724]:\n",
      "\thou comest thus knightly clad in arms; Against what man thou\n",
      "sample [57725]:\n",
      "\tcom'st, and what thy quarrel. Speak truly on thy knighthood\n",
      "sample [57726]:\n",
      "\tand thy oath; As so defend thee heaven and thy valour! MO\n"
     ]
    }
   ],
   "source": [
    "import re\n",
    "import random\n",
    "\n",
    "i = random.randrange(num_samples-5)\n",
    "for i in range(i, i+5):\n",
    "    test.assertEqual(len(samples[i]), seq_len)\n",
    "    s = re.sub(r'\\s+', ' ', unembed(samples[i])).strip()\n",
    "    print(f'sample [{i}]:\\n\\t{s}')"
   ]
  },
  {
   "cell_type": "markdown",
   "metadata": {
    "id": "Sg1B7Fw-2ESc"
   },
   "source": [
    "As usual, instead of feeding one sample at a time into our model's forward we'll work with **batches** of samples. This means that at every timestep, our model will operate on a batch of chars that are from **different sequences**.\n",
    "Effectively this will allow us to parallelize training our model by dong matrix-matrix multiplications\n",
    "instead of matrix-vector during the forward pass."
   ]
  },
  {
   "cell_type": "markdown",
   "metadata": {
    "id": "9HVFCXDw2ESc"
   },
   "source": [
    "An important nuance is that we need the batches to be **contiguous**, i.e. sample $k$ in batch $j$ should continue sample $k$ from batch $j-1$.\n",
    "The following figure illustrates this:\n",
    "\n",
    "<img src=\"imgs/rnn-batching.png\"/>\n",
    "\n",
    "If we naïvely take consecutive samples into batches, e.g. `[0,1,...,B-1]`, `[B,B+1,...,2B-1]` and so on, we won't have contiguous\n",
    "sequences at the same index between adjacent batches.\n",
    "\n",
    "To accomplish this we need to tell our `DataLoader` which samples to combine together into one batch.\n",
    "We do this by implementing a custom PyTorch `Sampler`, and providing it to our `DataLoader`."
   ]
  },
  {
   "cell_type": "markdown",
   "metadata": {
    "id": "sOlniQ6X2ESd"
   },
   "source": [
    "**TODO**: Implement the `SequenceBatchSampler` class in the `hw3/charnn.py` module."
   ]
  },
  {
   "cell_type": "code",
   "execution_count": 14,
   "metadata": {
    "execution": {
     "iopub.execute_input": "2021-01-22T10:38:31.864768Z",
     "iopub.status.busy": "2021-01-22T10:38:31.864298Z",
     "iopub.status.idle": "2021-01-22T10:38:31.884374Z",
     "shell.execute_reply": "2021-01-22T10:38:31.884886Z"
    },
    "colab": {
     "base_uri": "https://localhost:8080/"
    },
    "id": "iwNWHBFX2ESd",
    "executionInfo": {
     "status": "ok",
     "timestamp": 1640375436729,
     "user_tz": -120,
     "elapsed": 6,
     "user": {
      "displayName": "Bar Cohen",
      "photoUrl": "https://lh3.googleusercontent.com/a/default-user=s64",
      "userId": "08466736935148352038"
     }
    },
    "outputId": "e1057c0b-2bcb-45ca-cfda-670b8fa79fbf"
   },
   "outputs": [
    {
     "name": "stdout",
     "output_type": "stream",
     "text": [
      "sampler_idx =\n",
      " [tensor(0), tensor(1), tensor(2), tensor(3), tensor(4), tensor(5), tensor(6), tensor(7), tensor(8), tensor(9), tensor(10), tensor(11), tensor(12), tensor(13), tensor(14), tensor(15), tensor(16), tensor(17), tensor(18), tensor(19), tensor(20), tensor(21), tensor(22), tensor(23), tensor(24), tensor(25), tensor(26), tensor(27), tensor(28), tensor(29)]\n"
     ]
    }
   ],
   "source": [
    "from hw3.charnn import SequenceBatchSampler\n",
    "\n",
    "sampler = SequenceBatchSampler(dataset=range(32), batch_size=10)\n",
    "sampler_idx = list(sampler)\n",
    "print('sampler_idx =\\n', sampler_idx)\n",
    "\n",
    "# Test the Sampler\n",
    "test.assertEqual(len(sampler_idx), 30)\n",
    "batch_idx = np.array(sampler_idx).reshape(-1, 10)\n",
    "for k in range(10):\n",
    "    test.assertEqual(np.diff(batch_idx[:, k], n=2).item(), 0)"
   ]
  },
  {
   "cell_type": "markdown",
   "metadata": {
    "id": "PDLPf1G12ESd"
   },
   "source": [
    "Even though we're working with sequences, we can still use the standard PyTorch `Dataset`/`DataLoader` combo.\n",
    "For the dataset we can use a built-in class, `TensorDataset` to return tuples of `(sample, label)`\n",
    "from the `samples` and `labels` tensors we created above.\n",
    "The `DataLoader` will be provided with our custom `Sampler` so that it generates appropriate batches."
   ]
  },
  {
   "cell_type": "code",
   "execution_count": 15,
   "metadata": {
    "execution": {
     "iopub.execute_input": "2021-01-22T10:38:31.888238Z",
     "iopub.status.busy": "2021-01-22T10:38:31.887762Z",
     "iopub.status.idle": "2021-01-22T10:38:31.907545Z",
     "shell.execute_reply": "2021-01-22T10:38:31.908104Z"
    },
    "id": "03m465lt2ESd",
    "executionInfo": {
     "status": "ok",
     "timestamp": 1640375436729,
     "user_tz": -120,
     "elapsed": 5,
     "user": {
      "displayName": "Bar Cohen",
      "photoUrl": "https://lh3.googleusercontent.com/a/default-user=s64",
      "userId": "08466736935148352038"
     }
    }
   },
   "outputs": [],
   "source": [
    "import torch.utils.data\n",
    "\n",
    "# Create DataLoader returning batches of samples.\n",
    "batch_size = 32\n",
    "\n",
    "ds_corpus = torch.utils.data.TensorDataset(samples, labels)\n",
    "sampler_corpus = SequenceBatchSampler(ds_corpus, batch_size)\n",
    "dl_corpus = torch.utils.data.DataLoader(ds_corpus, batch_size=batch_size, sampler=sampler_corpus, shuffle=False)"
   ]
  },
  {
   "cell_type": "markdown",
   "metadata": {
    "id": "GYRYpx8x2ESd"
   },
   "source": [
    "Let's see what that gives us:"
   ]
  },
  {
   "cell_type": "code",
   "execution_count": 16,
   "metadata": {
    "execution": {
     "iopub.execute_input": "2021-01-22T10:38:31.911293Z",
     "iopub.status.busy": "2021-01-22T10:38:31.910810Z",
     "iopub.status.idle": "2021-01-22T10:38:31.939464Z",
     "shell.execute_reply": "2021-01-22T10:38:31.940068Z"
    },
    "colab": {
     "base_uri": "https://localhost:8080/"
    },
    "id": "1BMd8Ivz2ESd",
    "executionInfo": {
     "status": "ok",
     "timestamp": 1640375437221,
     "user_tz": -120,
     "elapsed": 497,
     "user": {
      "displayName": "Bar Cohen",
      "photoUrl": "https://lh3.googleusercontent.com/a/default-user=s64",
      "userId": "08466736935148352038"
     }
    },
    "outputId": "f0a017c2-e2c3-455e-fe0b-1ad7abc39a98"
   },
   "outputs": [
    {
     "name": "stdout",
     "output_type": "stream",
     "text": [
      "num batches: 3100\n",
      "shape of a batch of samples: torch.Size([32, 64, 78])\n",
      "shape of a batch of labels: torch.Size([32, 64])\n"
     ]
    }
   ],
   "source": [
    "print(f'num batches: {len(dl_corpus)}')\n",
    "\n",
    "x0, y0 = next(iter(dl_corpus))\n",
    "print(f'shape of a batch of samples: {x0.shape}')\n",
    "print(f'shape of a batch of labels: {y0.shape}')"
   ]
  },
  {
   "cell_type": "markdown",
   "metadata": {
    "id": "-VH04gcs2ESe"
   },
   "source": [
    "Now lets look at the same sample index from multiple batches taken from our corpus."
   ]
  },
  {
   "cell_type": "code",
   "execution_count": 17,
   "metadata": {
    "execution": {
     "iopub.execute_input": "2021-01-22T10:38:31.944231Z",
     "iopub.status.busy": "2021-01-22T10:38:31.943725Z",
     "iopub.status.idle": "2021-01-22T10:38:31.969478Z",
     "shell.execute_reply": "2021-01-22T10:38:31.969991Z"
    },
    "colab": {
     "base_uri": "https://localhost:8080/"
    },
    "id": "ahyI9ghc2ESe",
    "executionInfo": {
     "status": "ok",
     "timestamp": 1640375437222,
     "user_tz": -120,
     "elapsed": 5,
     "user": {
      "displayName": "Bar Cohen",
      "photoUrl": "https://lh3.googleusercontent.com/a/default-user=s64",
      "userId": "08466736935148352038"
     }
    },
    "outputId": "b9ee64ee-b532-474c-8d42-435c470b6d2e"
   },
   "outputs": [
    {
     "name": "stdout",
     "output_type": "stream",
     "text": [
      "=== batch 0, sample 15 (torch.Size([64, 78])): ===\n",
      "\tmadam, weep o'er my father's death anew; but I must attend\n",
      "=== batch 1, sample 15 (torch.Size([64, 78])): ===\n",
      "\ther goodness. LAFEU. Your commendations, madam, get from her t\n",
      "=== batch 2, sample 15 (torch.Size([64, 78])): ===\n",
      "\tlove a bright particular star And think to wed it, he is so\n",
      "=== batch 3, sample 15 (torch.Size([64, 78])): ===\n",
      "\tl to make virgins. Virginity by being once lost may be ten t\n",
      "=== batch 4, sample 15 (torch.Size([64, 78])): ===\n",
      "\tdear; His humble ambition, proud humility, His jarring\n"
     ]
    }
   ],
   "source": [
    "# Check that sentences in in same index of different batches complete each other.\n",
    "k = random.randrange(batch_size)\n",
    "for j, (X, y) in enumerate(dl_corpus,):\n",
    "    print(f'=== batch {j}, sample {k} ({X[k].shape}): ===')\n",
    "    s = re.sub(r'\\s+', ' ', unembed(X[k])).strip()\n",
    "    print(f'\\t{s}')\n",
    "    if j==4: break"
   ]
  },
  {
   "cell_type": "markdown",
   "metadata": {
    "id": "6ibxOLsm2ESe"
   },
   "source": [
    "### Model Implementation\n",
    "<a id=part1_5></a>"
   ]
  },
  {
   "cell_type": "markdown",
   "metadata": {
    "id": "zEbjmLXk2ESe"
   },
   "source": [
    "Finally, our data set is ready so we can focus on our model.\n",
    "\n",
    "We'll implement here is a multilayer gated recurrent unit (GRU) model, with dropout.\n",
    "This model is a type of RNN which performs similar to the well-known LSTM model,\n",
    "but it's somewhat easier to train because it has less parameters.\n",
    "We'll modify the regular GRU slightly by applying dropout to\n",
    "the hidden states passed between layers of the model.\n",
    "\n",
    "The model accepts an input $\\mat{X}\\in\\set{R}^{S\\times V}$ containing a sequence of embedded chars.\n",
    "It returns an output $\\mat{Y}\\in\\set{R}^{S\\times V}$ of predictions for the next char and the final hidden state\n",
    "$\\mat{H}\\in\\set{R}^{L\\times H}$. Here $S$ is the sequence length, $V$ is the vocabulary size (number of unique chars), $L$ is the number of layers in the model and $H$ is the hidden dimension."
   ]
  },
  {
   "cell_type": "markdown",
   "metadata": {
    "id": "WBVTEWvh2ESe"
   },
   "source": [
    "Mathematically, the model's forward function at layer $k\\in[1,L]$ and timestep $t\\in[1,S]$ can be described as\n",
    "\n",
    "$$\n",
    "\\begin{align}\n",
    "\\vec{z_t}^{[k]} &= \\sigma\\left(\\vec{x}^{[k]}_t {\\mattr{W}_{\\mathrm{xz}}}^{[k]} +\n",
    "    \\vec{h}_{t-1}^{[k]} {\\mattr{W}_{\\mathrm{hz}}}^{[k]} + \\vec{b}_{\\mathrm{z}}^{[k]}\\right) \\\\\n",
    "\\vec{r_t}^{[k]} &= \\sigma\\left(\\vec{x}^{[k]}_t {\\mattr{W}_{\\mathrm{xr}}}^{[k]} +\n",
    "    \\vec{h}_{t-1}^{[k]} {\\mattr{W}_{\\mathrm{hr}}}^{[k]} + \\vec{b}_{\\mathrm{r}}^{[k]}\\right) \\\\\n",
    "\\vec{g_t}^{[k]} &= \\tanh\\left(\\vec{x}^{[k]}_t {\\mattr{W}_{\\mathrm{xg}}}^{[k]} +\n",
    "    (\\vec{r_t}^{[k]}\\odot\\vec{h}_{t-1}^{[k]}) {\\mattr{W}_{\\mathrm{hg}}}^{[k]} + \\vec{b}_{\\mathrm{g}}^{[k]}\\right) \\\\\n",
    "\\vec{h_t}^{[k]} &= \\vec{z}^{[k]}_t \\odot \\vec{h}^{[k]}_{t-1} + \\left(1-\\vec{z}^{[k]}_t\\right)\\odot \\vec{g_t}^{[k]}\n",
    "\\end{align}\n",
    "$$"
   ]
  },
  {
   "cell_type": "markdown",
   "metadata": {
    "id": "jgy5ogvx2ESf"
   },
   "source": [
    "The input to each layer is,\n",
    "$$\n",
    "\\mat{X}^{[k]} =\n",
    "\\begin{bmatrix}\n",
    "    {\\vec{x}_1}^{[k]} \\\\ \\vdots \\\\ {\\vec{x}_S}^{[k]}\n",
    "\\end{bmatrix} \n",
    "=\n",
    "\\begin{cases}\n",
    "    \\mat{X} & \\mathrm{if} ~k = 1~ \\\\\n",
    "    \\mathrm{dropout}_p \\left(\n",
    "    \\begin{bmatrix}\n",
    "        {\\vec{h}_1}^{[k-1]} \\\\ \\vdots \\\\ {\\vec{h}_S}^{[k-1]}\n",
    "    \\end{bmatrix} \\right) & \\mathrm{if} ~1 < k \\leq L+1~\n",
    "\\end{cases}.\n",
    "$$"
   ]
  },
  {
   "cell_type": "markdown",
   "metadata": {
    "id": "HqMglGwi2ESf"
   },
   "source": [
    "The output of the entire model is then,\n",
    "$$\n",
    "\\mat{Y} = \\mat{X}^{[L+1]} {\\mattr{W}_{\\mathrm{hy}}} + \\mat{B}_{\\mathrm{y}}\n",
    "$$"
   ]
  },
  {
   "cell_type": "markdown",
   "metadata": {
    "id": "8IqUiaD42ESf"
   },
   "source": [
    "and the final hidden state is\n",
    "$$\n",
    "\\mat{H} = \n",
    "\\begin{bmatrix}\n",
    "    {\\vec{h}_S}^{[1]} \\\\ \\vdots \\\\ {\\vec{h}_S}^{[L]}\n",
    "\\end{bmatrix}.\n",
    "$$"
   ]
  },
  {
   "cell_type": "markdown",
   "metadata": {
    "id": "SWqZ2VzO2ESf"
   },
   "source": [
    "Notes:\n",
    "- $t\\in[1,S]$ is the timestep, i.e. the current position within the sequence of each sample.\n",
    "- $\\vec{x}_t^{[k]}$ is the input of layer $k$ at timestep $t$, respectively.\n",
    "- The outputs of the **last layer** $\\vec{y}_t^{[L]}$, are the predicted next characters for every input char.\n",
    "  These are similar to class scores in classification tasks.\n",
    "- The hidden states at the **last timestep**, $\\vec{h}_S^{[k]}$, are the final hidden state returned from the model.\n",
    "- $\\sigma(\\cdot)$ is the sigmoid function, i.e. $\\sigma(\\vec{z}) = 1/(1+e^{-\\vec{z}})$ which returns values in $(0,1)$.\n",
    "- $\\tanh(\\cdot)$ is the hyperbolic tangent, i.e. $\\tanh(\\vec{z}) = (e^{2\\vec{z}}-1)/(e^{2\\vec{z}}+1)$ which returns values in $(-1,1)$.\n",
    "- $\\vec{h_t}^{[k]}$ is the hidden state of layer $k$ at time $t$. This can be thought of as the memory of that layer.\n",
    "- $\\vec{g_t}^{[k]}$ is the candidate hidden state for time $t+1$.\n",
    "- $\\vec{z_t}^{[k]}$ is known as the update gate. It combines the previous state with the input to determine how much the current state will be combined with the new candidate state. For example, if $\\vec{z_t}^{[k]}=\\vec{1}$ then the current input has no effect on the output.\n",
    "- $\\vec{r_t}^{[k]}$ is known as the reset gate. It combines the previous state with the input to determine how much of the previous state will affect the current state candidate. For example if $\\vec{r_t}^{[k]}=\\vec{0}$ the previous state has no effect on the current candidate state."
   ]
  },
  {
   "cell_type": "markdown",
   "metadata": {
    "id": "AGrsGkWS2ESf"
   },
   "source": [
    "Here's a graphical representation of the GRU's forward pass at each timestep. The $\\vec{\\tilde{h}}$ in the image is our $\\vec{g}$ (candidate next state).\n",
    "\n",
    "<img src=\"imgs/gru_cell.png\" width=\"400\"/>\n",
    "\n",
    "You can see how the reset and update gates allow the model to completely ignore it's previous state, completely ignore it's input, or any mixture of those states (since the gates are actually continuous and between $(0,1)$)."
   ]
  },
  {
   "cell_type": "markdown",
   "metadata": {
    "id": "RnSuFMOc2ESf"
   },
   "source": [
    "Here's a graphical representation of the entire model.\n",
    "You can ignore the $c_t^{[k]}$ (cell state) variables (which are relevant for LSTM models).\n",
    "Our model has only the hidden state, $h_t^{[k]}$. Also notice that we added dropout between layers (i.e., on the up arrows).\n",
    "\n",
    "<img src=\"imgs/lstm_model.png\" />\n",
    "\n",
    "The purple tensors are inputs (a sequence and initial hidden state per layer), and the green tensors are outputs (another sequence and final hidden state per layer). Each blue block implements the above forward equations.\n",
    "Blocks that are on the same vertical level are at the same layer, and therefore share parameters."
   ]
  },
  {
   "cell_type": "markdown",
   "metadata": {
    "id": "Vt5ZRNAe2ESg"
   },
   "source": [
    "**TODO**: Implement the `MultilayerGRU` class in the `hw3/charnn.py` module.\n",
    "\n",
    "Notes:\n",
    "- You'll need to handle input **batches** now.\n",
    "  The math is identical to the above, but all the tensors will have an extra batch\n",
    "  dimension as their first dimension.\n",
    "- Use the diagram above to help guide your implementation.\n",
    "  It will help you visualize what shapes to returns where, etc.\n"
   ]
  },
  {
   "cell_type": "code",
   "execution_count": 18,
   "metadata": {
    "execution": {
     "iopub.execute_input": "2021-01-22T10:38:31.974665Z",
     "iopub.status.busy": "2021-01-22T10:38:31.974161Z",
     "iopub.status.idle": "2021-01-22T10:38:32.111658Z",
     "shell.execute_reply": "2021-01-22T10:38:32.112174Z"
    },
    "colab": {
     "base_uri": "https://localhost:8080/"
    },
    "id": "iIlWe9YG2ESg",
    "executionInfo": {
     "status": "ok",
     "timestamp": 1640375437617,
     "user_tz": -120,
     "elapsed": 399,
     "user": {
      "displayName": "Bar Cohen",
      "photoUrl": "https://lh3.googleusercontent.com/a/default-user=s64",
      "userId": "08466736935148352038"
     }
    },
    "outputId": "54a1c88e-d932-4b54-9662-4cff6409ea15"
   },
   "outputs": [
    {
     "name": "stdout",
     "output_type": "stream",
     "text": [
      "MultilayerGRU(\n",
      "  (xz_0): Linear(in_features=78, out_features=256, bias=False)\n",
      "  (hz_0): Linear(in_features=256, out_features=256, bias=True)\n",
      "  (xr_0): Linear(in_features=78, out_features=256, bias=False)\n",
      "  (hr_0): Linear(in_features=256, out_features=256, bias=True)\n",
      "  (xg_0): Linear(in_features=78, out_features=256, bias=False)\n",
      "  (hg_0): Linear(in_features=256, out_features=256, bias=True)\n",
      "  (xz_1): Linear(in_features=256, out_features=256, bias=False)\n",
      "  (hz_1): Linear(in_features=256, out_features=256, bias=True)\n",
      "  (xr_1): Linear(in_features=256, out_features=256, bias=False)\n",
      "  (hr_1): Linear(in_features=256, out_features=256, bias=True)\n",
      "  (xg_1): Linear(in_features=256, out_features=256, bias=False)\n",
      "  (hg_1): Linear(in_features=256, out_features=256, bias=True)\n",
      "  (xz_2): Linear(in_features=256, out_features=256, bias=False)\n",
      "  (hz_2): Linear(in_features=256, out_features=256, bias=True)\n",
      "  (xr_2): Linear(in_features=256, out_features=256, bias=False)\n",
      "  (hr_2): Linear(in_features=256, out_features=256, bias=True)\n",
      "  (xg_2): Linear(in_features=256, out_features=256, bias=False)\n",
      "  (hg_2): Linear(in_features=256, out_features=256, bias=True)\n",
      "  (out): Linear(in_features=256, out_features=78, bias=True)\n",
      ")\n",
      "x0 shape torch.Size([32, 64, 78])\n",
      "torch.Size([32, 64, 78])\n",
      "y.shape=torch.Size([32, 64, 78])\n",
      "h.shape=torch.Size([32, 3, 256])\n"
     ]
    }
   ],
   "source": [
    "in_dim = vocab_len\n",
    "h_dim = 256\n",
    "n_layers = 3\n",
    "model = charnn.MultilayerGRU(in_dim, h_dim, out_dim=in_dim, n_layers=n_layers)\n",
    "model = model.to(device)\n",
    "print(model)\n",
    "\n",
    "# Test forward pass\n",
    "print(f'x0 shape {x0.shape}')\n",
    "y, h = model(x0.to(dtype=torch.float, device=device))\n",
    "print(y.shape)\n",
    "print(f'y.shape={y.shape}')\n",
    "print(f'h.shape={h.shape}')\n",
    "\n",
    "test.assertEqual(y.shape, (batch_size, seq_len, vocab_len))\n",
    "test.assertEqual(h.shape, (batch_size, n_layers, h_dim))\n",
    "test.assertEqual(len(list(model.parameters())), 9 * n_layers + 2) "
   ]
  },
  {
   "cell_type": "markdown",
   "metadata": {
    "id": "JpftsW5J2ESg"
   },
   "source": [
    "### Generating text by sampling\n",
    "<a id=part1_6></a>"
   ]
  },
  {
   "cell_type": "markdown",
   "metadata": {
    "id": "wt_FzgNl2ESg"
   },
   "source": [
    "Now that we have a model, we can implement **text generation** based on it.\n",
    "The idea is simple:\n",
    "At each timestep our model receives one char $x_t$ from the input sequence and outputs scores $y_t$\n",
    "for what the next char should be.\n",
    "We'll convert these scores into a probability over each of the possible chars.\n",
    "In other words, for each input char $x_t$ we create a probability distribution for the next char\n",
    "conditioned on the current one and the state of the model (representing all previous inputs):\n",
    "$$p(x_{t+1}|x_t, \\vec{h}_t).$$\n",
    "\n",
    "Once we have such a distribution, we'll sample a char from it.\n",
    "This will be the first char of our generated sequence.\n",
    "Now we can feed this new char into the model, create another distribution, sample the next char and so on.\n",
    "Note that it's crucial to propagate the hidden state when sampling."
   ]
  },
  {
   "cell_type": "markdown",
   "metadata": {
    "id": "CkrvQyy22ESg"
   },
   "source": [
    "The important point however is how to create the distribution from the scores.\n",
    "One way, as we saw in previous ML tasks, is to use the softmax function.\n",
    "However, a drawback of softmax is that it can generate very diffuse (more uniform) distributions if the score values are very similar. When sampling, we would prefer to control the distributions and make them less uniform to increase the chance of sampling the char(s) with the highest scores compared to the others.\n",
    "\n",
    "To control the variance of the distribution, a common trick is to add a hyperparameter $T$, known as the \n",
    "*temperature* to the softmax function. The class scores are simply scaled by $T$ before softmax is applied:\n",
    "$$\n",
    "\\mathrm{softmax}_T(\\vec{y}) = \\frac{e^{\\vec{y}/T}}{\\sum_k e^{y_k/T}}\n",
    "$$\n",
    "\n",
    "A low $T$ will result in less uniform distributions and vice-versa."
   ]
  },
  {
   "cell_type": "markdown",
   "metadata": {
    "id": "QYphobrb2ESg"
   },
   "source": [
    "**TODO**: Implement the `hot_softmax()` function in the `hw3/charnn.py` module."
   ]
  },
  {
   "cell_type": "code",
   "execution_count": 19,
   "metadata": {
    "execution": {
     "iopub.execute_input": "2021-01-22T10:38:32.116816Z",
     "iopub.status.busy": "2021-01-22T10:38:32.116191Z",
     "iopub.status.idle": "2021-01-22T10:38:32.573326Z",
     "shell.execute_reply": "2021-01-22T10:38:32.573897Z"
    },
    "colab": {
     "base_uri": "https://localhost:8080/",
     "height": 0
    },
    "id": "lVfef9ED2ESh",
    "executionInfo": {
     "status": "ok",
     "timestamp": 1640375438459,
     "user_tz": -120,
     "elapsed": 844,
     "user": {
      "displayName": "Bar Cohen",
      "photoUrl": "https://lh3.googleusercontent.com/a/default-user=s64",
      "userId": "08466736935148352038"
     }
    },
    "outputId": "badc3024-3f2f-483b-9265-8bcfdb674124"
   },
   "outputs": [
    {
     "data": {
      "text/plain": "<Figure size 1080x360 with 1 Axes>",
      "image/png": "[encoded data removed]"
     },
     "metadata": {
      "needs_background": "light"
     },
     "output_type": "display_data"
    }
   ],
   "source": [
    "scores = y[0,0,:].detach()\n",
    "_, ax = plt.subplots(figsize=(15,5))\n",
    "\n",
    "for t in reversed([0.3, 0.5, 1.0, 100]):\n",
    "    ax.plot(charnn.hot_softmax(scores, temperature=t).cpu().numpy(), label=f'T={t}')\n",
    "ax.set_xlabel('$x_{t+1}$')\n",
    "ax.set_ylabel('$p(x_{t+1}|x_t)$')\n",
    "ax.legend()\n",
    "\n",
    "uniform_proba = 1/len(char_to_idx)\n",
    "uniform_diff = torch.abs(charnn.hot_softmax(scores, temperature=100) - uniform_proba)\n",
    "test.assertTrue(torch.all(uniform_diff < 1e-4))"
   ]
  },
  {
   "cell_type": "markdown",
   "metadata": {
    "id": "DTFyZmqP2ESh"
   },
   "source": [
    "**TODO**: Implement the `generate_from_model()` function in the `hw3/charnn.py` module."
   ]
  },
  {
   "cell_type": "code",
   "execution_count": 20,
   "metadata": {
    "execution": {
     "iopub.execute_input": "2021-01-22T10:38:32.577374Z",
     "iopub.status.busy": "2021-01-22T10:38:32.576891Z",
     "iopub.status.idle": "2021-01-22T10:38:32.723962Z",
     "shell.execute_reply": "2021-01-22T10:38:32.724483Z"
    },
    "colab": {
     "base_uri": "https://localhost:8080/"
    },
    "id": "Z8kt7LyW2ESh",
    "executionInfo": {
     "status": "ok",
     "timestamp": 1640375443736,
     "user_tz": -120,
     "elapsed": 5282,
     "user": {
      "displayName": "Bar Cohen",
      "photoUrl": "https://lh3.googleusercontent.com/a/default-user=s64",
      "userId": "08466736935148352038"
     }
    },
    "outputId": "17a43904-735e-4e21-e664-a8af19d075f3"
   },
   "outputs": [
    {
     "name": "stdout",
     "output_type": "stream",
     "text": [
      "foobarNtRv1S!OSX\n",
      "nGfM\n",
      "xA'R14HOz;w78p(?Ly3!9BEpjwvt\n",
      "foobarE41]HxC\n",
      "WvS:5B'NN7n\"I9dP2Jv68;zv7Dzw?d] 7dK0\n",
      "foobar5tmVPkxN:Jo&7agyNVi23NJH4JF7.SIy[BealkaculZe\n"
     ]
    }
   ],
   "source": [
    "for _ in range(3):\n",
    "    text = charnn.generate_from_model(model, \"foobar\", 50, (char_to_idx, idx_to_char), T=0.5)\n",
    "    print(text)\n",
    "\n",
    "    test.assertEqual(len(text), 50)"
   ]
  },
  {
   "cell_type": "markdown",
   "metadata": {
    "id": "ghjts99C2ESh"
   },
   "source": [
    "### Training\n",
    "<a id=part1_7></a>"
   ]
  },
  {
   "cell_type": "markdown",
   "metadata": {
    "id": "rmz0ofaS2ESh"
   },
   "source": [
    "To train this model, we'll calculate the loss at each time step by comparing the predicted char to\n",
    "the actual char from our label. We can use cross entropy since per char it's similar to a classification problem.\n",
    "We'll then sum the losses over the sequence and back-propagate the gradients though time.\n",
    "Notice that the back-propagation algorithm will \"visit\" each layer's parameter tensors multiple times,\n",
    "so we'll accumulate gradients in parameters of the blocks. Luckily `autograd` will handle this part for us."
   ]
  },
  {
   "cell_type": "markdown",
   "metadata": {
    "id": "Mb5HHYo92ESh"
   },
   "source": [
    "As usual, the first step of training will be to try and **overfit** a large model (many parameters) to a tiny dataset.\n",
    "Again, this is to ensure the model and training code are implemented correctly, i.e. that the model can learn.\n",
    "\n",
    "For a generative model such as this, overfitting is slightly trickier than for classification.\n",
    "What we'll aim to do is to get our model to **memorize** a specific sequence of chars, so that when given the first\n",
    "char in the sequence it will immediately spit out the rest of the sequence verbatim.\n",
    "\n",
    "Let's create a tiny dataset to memorize."
   ]
  },
  {
   "cell_type": "code",
   "execution_count": 21,
   "metadata": {
    "execution": {
     "iopub.execute_input": "2021-01-22T10:38:32.728841Z",
     "iopub.status.busy": "2021-01-22T10:38:32.728207Z",
     "iopub.status.idle": "2021-01-22T10:38:32.749316Z",
     "shell.execute_reply": "2021-01-22T10:38:32.749827Z"
    },
    "colab": {
     "base_uri": "https://localhost:8080/"
    },
    "id": "XzgjM18i2ESh",
    "executionInfo": {
     "status": "ok",
     "timestamp": 1640375443737,
     "user_tz": -120,
     "elapsed": 15,
     "user": {
      "displayName": "Bar Cohen",
      "photoUrl": "https://lh3.googleusercontent.com/a/default-user=s64",
      "userId": "08466736935148352038"
     }
    },
    "outputId": "e8df18e4-821e-4808-a561-303cc9c9ea21"
   },
   "outputs": [
    {
     "name": "stdout",
     "output_type": "stream",
     "text": [
      "Text to \"memorize\":\n",
      "\n",
      "TRAM. What would you have?\n",
      "  HELENA. Something; and scarce so much; nothing, indeed.\n",
      "    I would not tell you what I would, my lord.\n",
      "    Faith, yes:\n",
      "    Strangers and foes do sunder and not kiss.\n",
      "  BERTRAM. I pray you, stay not, but in haste to horse.\n",
      "  HE\n"
     ]
    }
   ],
   "source": [
    "# Pick a tiny subset of the dataset\n",
    "subset_start, subset_end = 1001, 1005\n",
    "ds_corpus_ss = torch.utils.data.Subset(ds_corpus, range(subset_start, subset_end))\n",
    "batch_size_ss = 1\n",
    "sampler_ss = SequenceBatchSampler(ds_corpus_ss, batch_size=batch_size_ss)\n",
    "dl_corpus_ss = torch.utils.data.DataLoader(ds_corpus_ss, batch_size_ss, sampler=sampler_ss, shuffle=False)\n",
    "\n",
    "# Convert subset to text\n",
    "subset_text = ''\n",
    "for i in range(subset_end - subset_start):\n",
    "    subset_text += unembed(ds_corpus_ss[i][0])\n",
    "print(f'Text to \"memorize\":\\n\\n{subset_text}')"
   ]
  },
  {
   "cell_type": "markdown",
   "metadata": {
    "id": "Ii6yQRhA2ESi"
   },
   "source": [
    "Now let's implement the first part of our training code.\n",
    "\n",
    "**TODO**: Implement the `train_epoch()` and `train_batch()` methods of the `RNNTrainer` class in the `hw3/training.py` module. \n",
    "You must think about how to correctly handle the hidden state of the model between batches and epochs for this specific task (i.e. text generation)."
   ]
  },
  {
   "cell_type": "code",
   "execution_count": 22,
   "metadata": {
    "execution": {
     "iopub.execute_input": "2021-01-22T10:38:32.755307Z",
     "iopub.status.busy": "2021-01-22T10:38:32.754708Z",
     "iopub.status.idle": "2021-01-22T10:38:49.406250Z",
     "shell.execute_reply": "2021-01-22T10:38:49.406879Z"
    },
    "colab": {
     "base_uri": "https://localhost:8080/"
    },
    "id": "w9doxEJf2ESi",
    "executionInfo": {
     "status": "ok",
     "timestamp": 1640375580409,
     "user_tz": -120,
     "elapsed": 136685,
     "user": {
      "displayName": "Bar Cohen",
      "photoUrl": "https://lh3.googleusercontent.com/a/default-user=s64",
      "userId": "08466736935148352038"
     }
    },
    "outputId": "9584ce6f-3b8f-4455-ac80-b710718bba57"
   },
   "outputs": [
    {
     "name": "stdout",
     "output_type": "stream",
     "text": [
      "TRAM. What would you have?\n",
      "  HELENA. Something; and scarce so much; nothing, indeed.\n",
      "    I would not tell you what I would, my lord.\n",
      "    Faith, yes:\n",
      "    Strangers and foes do sunder and not kiss.\n",
      "  BERTRAM. I pray you, stay not, but in haste to horse.\n",
      "  HE\n",
      "\n",
      "Epoch #1: Avg. loss = 3.940, Accuracy = 17.58%\n",
      "Tt                                                                                                                                                                                                                                           o                  \n",
      "\n",
      "Epoch #25: Avg. loss = 0.268, Accuracy = 96.09%\n",
      "TAM. What would you have?\n",
      "  HELENA. Something; and scarce so much; nothing, indeed.\n",
      "    I would not would you wand not kiss.\n",
      "  BERTRAM. I pray you, stay not, but in haste to horse.\n",
      "  HELERAM. I pray you, stay not, but in haste to horse.\n",
      "  HELERAM. I pray y\n",
      "\n",
      "Epoch #50: Avg. loss = 0.008, Accuracy = 100.00%\n",
      "TRAM. What would you have?\n",
      "  HELENA. Something; and scarce so much; nothing, indeed.\n",
      "    I would not tell you what I would, my lord.\n",
      "    Faith, yes:\n",
      "    Strangers and foes do sunder and not kiss.\n",
      "  BERTRAM. I pray you, stay not, but in haste to horse.\n",
      "  HE\n",
      "please\n"
     ]
    },
    {
     "name": "stderr",
     "output_type": "stream",
     "text": [
      "C:\\Workdir\\DL class\\DL_class\\hw3\\hw3\\training.py:273: UserWarning: To copy construct from a tensor, it is recommended to use sourceTensor.clone().detach() or sourceTensor.clone().detach().requires_grad_(True), rather than torch.tensor(sourceTensor).\n",
      "  num_correct = torch.sum(torch.tensor(pred.argmax(dim=1).eq(y)))\n"
     ]
    }
   ],
   "source": [
    "import torch.nn as nn\n",
    "import torch.optim as optim\n",
    "from hw3.training import RNNTrainer\n",
    "\n",
    "torch.manual_seed(42)\n",
    "\n",
    "lr = 0.01\n",
    "num_epochs = 500\n",
    "\n",
    "in_dim = vocab_len\n",
    "h_dim = 128\n",
    "n_layers = 2\n",
    "loss_fn = nn.CrossEntropyLoss()\n",
    "model = charnn.MultilayerGRU(in_dim, h_dim, out_dim=in_dim, n_layers=n_layers).to(device)\n",
    "optimizer = optim.Adam(model.parameters(), lr=lr)\n",
    "trainer = RNNTrainer(model, loss_fn, optimizer, device)\n",
    "print(subset_text)\n",
    "for epoch in range(num_epochs):\n",
    "    # print(dl_corpus_ss[0])\n",
    "    epoch_result = trainer.train_epoch(dl_corpus_ss, verbose=False)\n",
    "    # print('done')\n",
    "    # Every X epochs, we'll generate a sequence starting from the first char in the first sequence\n",
    "    # to visualize how/if/what the model is learning.\n",
    "    if epoch == 0 or (epoch+1) % 25 == 0:\n",
    "        avg_loss = np.mean(epoch_result.losses)\n",
    "        accuracy = np.mean(epoch_result.accuracy)\n",
    "        print(f'\\nEpoch #{epoch+1}: Avg. loss = {avg_loss:.3f}, Accuracy = {accuracy:.2f}%')\n",
    "        \n",
    "        generated_sequence = charnn.generate_from_model(model, subset_text[0],\n",
    "                                                        seq_len*(subset_end-subset_start),\n",
    "                                                        (char_to_idx,idx_to_char), T=0.1)\n",
    "        \n",
    "        # Stop if we've successfully memorized the small dataset.\n",
    "        print(generated_sequence)\n",
    "        if generated_sequence == subset_text:\n",
    "            break\n",
    "\n",
    "# Test successful overfitting\n",
    "test.assertGreater(epoch_result.accuracy, 99)\n",
    "test.assertEqual(generated_sequence, subset_text)\n",
    "print('please')"
   ]
  },
  {
   "cell_type": "markdown",
   "metadata": {
    "id": "piw96c6U2ESi"
   },
   "source": [
    "OK, so training works - we can memorize a short sequence.\n",
    "We'll now train a much larger model on our large dataset. You'll need a GPU for this part.\n",
    "\n",
    "First, lets set up our dataset and models for training.\n",
    "We'll split our corpus into 90% train and 10% test-set.\n",
    "Also, we'll use a learning-rate scheduler to control the learning rate during training."
   ]
  },
  {
   "cell_type": "markdown",
   "metadata": {
    "id": "x1QfJMHk2ESi"
   },
   "source": [
    "**TODO**: Set the hyperparameters in the `part1_rnn_hyperparams()` function of the `hw3/answers.py` module."
   ]
  },
  {
   "cell_type": "code",
   "execution_count": 35,
   "metadata": {
    "execution": {
     "iopub.execute_input": "2021-01-22T10:38:49.415265Z",
     "iopub.status.busy": "2021-01-22T10:38:49.414472Z",
     "iopub.status.idle": "2021-01-22T10:38:52.310813Z",
     "shell.execute_reply": "2021-01-22T10:38:52.311410Z"
    },
    "colab": {
     "base_uri": "https://localhost:8080/"
    },
    "id": "P1CtiWiG2ESi",
    "executionInfo": {
     "status": "ok",
     "timestamp": 1640375607903,
     "user_tz": -120,
     "elapsed": 27497,
     "user": {
      "displayName": "Bar Cohen",
      "photoUrl": "https://lh3.googleusercontent.com/a/default-user=s64",
      "userId": "08466736935148352038"
     }
    },
    "outputId": "dd7cc445-fcac-4252-eb9b-836434ae3cfe"
   },
   "outputs": [
    {
     "name": "stdout",
     "output_type": "stream",
     "text": [
      "this is it\n",
      "hyperparams:\n",
      " {'batch_size': 128, 'seq_len': 99, 'h_dim': 128, 'n_layers': 3, 'dropout': 0.27, 'learn_rate': 0.001, 'lr_sched_factor': 0.1, 'lr_sched_patience': 1}\n",
      "Train: 450 batches, 5702400 chars\n",
      "Test:   50 batches,  633600 chars\n"
     ]
    }
   ],
   "source": [
    "from hw3.answers import part1_rnn_hyperparams\n",
    "\n",
    "hp = part1_rnn_hyperparams()\n",
    "print('this is it')\n",
    "print('hyperparams:\\n', hp)\n",
    "### Dataset definition\n",
    "vocab_len = len(char_to_idx)\n",
    "batch_size = hp['batch_size']\n",
    "seq_len = hp['seq_len']\n",
    "train_test_ratio = 0.9\n",
    "num_samples = (len(corpus) - 1) // seq_len\n",
    "num_train = int(train_test_ratio * num_samples)\n",
    "\n",
    "samples, labels = charnn.chars_to_labelled_samples(corpus, char_to_idx, seq_len, device)\n",
    "\n",
    "ds_train = torch.utils.data.TensorDataset(samples[:num_train], labels[:num_train])\n",
    "sampler_train = SequenceBatchSampler(ds_train, batch_size)\n",
    "dl_train = torch.utils.data.DataLoader(ds_train, batch_size, shuffle=False, sampler=sampler_train, drop_last=True)\n",
    "\n",
    "ds_test = torch.utils.data.TensorDataset(samples[num_train:], labels[num_train:])\n",
    "sampler_test = SequenceBatchSampler(ds_test, batch_size)\n",
    "dl_test = torch.utils.data.DataLoader(ds_test, batch_size, shuffle=False, sampler=sampler_test, drop_last=True)\n",
    "\n",
    "print(f'Train: {len(dl_train):3d} batches, {len(dl_train)*batch_size*seq_len:7d} chars')\n",
    "print(f'Test:  {len(dl_test):3d} batches, {len(dl_test)*batch_size*seq_len:7d} chars')\n",
    "\n",
    "### Training definition\n",
    "in_dim = out_dim = vocab_len\n",
    "checkpoint_file = 'checkpoints/final.pt'\n",
    "num_epochs = 50\n",
    "early_stopping = 5\n",
    "\n",
    "model = charnn.MultilayerGRU(in_dim, hp['h_dim'], out_dim, hp['n_layers'], hp['dropout'])\n",
    "loss_fn = nn.CrossEntropyLoss()\n",
    "optimizer = optim.Adam(model.parameters(), lr=hp['learn_rate'])\n",
    "scheduler = optim.lr_scheduler.ReduceLROnPlateau(\n",
    "    optimizer, mode='max', factor=hp['lr_sched_factor'], patience=hp['lr_sched_patience'], verbose=True\n",
    ")\n",
    "trainer = RNNTrainer(model, loss_fn, optimizer, device)"
   ]
  },
  {
   "cell_type": "markdown",
   "metadata": {
    "id": "h89GEiKj2ESj"
   },
   "source": [
    "The code blocks below will train the model and save checkpoints containing the training state and the best model parameters to a file. This allows you to stop training and resume it later from where you left.\n",
    "\n",
    "Note that you can use the `main.py` script provided within the assignment folder to run this notebook from the command line as if it were a python script by using the `run-nb` subcommand. This allows you to train your model using this notebook without starting jupyter. You can combine this with `srun` or `sbatch` to run the notebook with a GPU on the course servers."
   ]
  },
  {
   "cell_type": "markdown",
   "metadata": {
    "id": "USMBGlEA2ESj"
   },
   "source": [
    "**TODO**:\n",
    "- Implement the `fit()` method of the `Trainer` class. You can reuse the relevant implementation parts from HW2, but make sure to implement early stopping and checkpoints.\n",
    "- Implement the `test_epoch()` and `test_batch()` methods of the `RNNTrainer` class in the `hw3/training.py` module.\n",
    "- Run the following block to train.\n",
    "- When training is done and you're satisfied with the model's outputs, rename the checkpoint file to `checkpoints/rnn_final.pt`.\n",
    "  This will cause the block to skip training and instead load your saved model when running the homework submission script.\n",
    "  Note that your submission zip file will not include the checkpoint file. This is OK."
   ]
  },
  {
   "cell_type": "code",
   "execution_count": 42,
   "metadata": {
    "execution": {
     "iopub.execute_input": "2021-01-22T10:38:52.316848Z",
     "iopub.status.busy": "2021-01-22T10:38:52.316319Z",
     "iopub.status.idle": "2021-01-22T10:38:52.369407Z",
     "shell.execute_reply": "2021-01-22T10:38:52.370084Z"
    },
    "colab": {
     "base_uri": "https://localhost:8080/"
    },
    "id": "Om6mCxKN2ESj",
    "outputId": "3b951785-d4ec-40cf-a9cb-ff3e8ca8db56",
    "executionInfo": {
     "status": "ok",
     "timestamp": 1640375608733,
     "user_tz": -120,
     "elapsed": 841,
     "user": {
      "displayName": "Bar Cohen",
      "photoUrl": "https://lh3.googleusercontent.com/a/default-user=s64",
      "userId": "08466736935148352038"
     }
    }
   },
   "outputs": [
    {
     "name": "stdout",
     "output_type": "stream",
     "text": [
      "*** Loading final checkpoint file checkpoints/final.pt instead of training\n"
     ]
    }
   ],
   "source": [
    "from cs3600.plot import plot_fit\n",
    "\n",
    "def post_epoch_fn(epoch, train_res, test_res, verbose):\n",
    "    # Update learning rate\n",
    "    scheduler.step(test_res.accuracy)\n",
    "    # Sample from model to show progress\n",
    "    if verbose:\n",
    "        start_seq = \"ACT I.\"\n",
    "        generated_sequence = charnn.generate_from_model(\n",
    "            model, start_seq, 100, (char_to_idx,idx_to_char), T=0.5\n",
    "        )\n",
    "        print(generated_sequence)\n",
    "\n",
    "# Train, unless final checkpoint is found\n",
    "checkpoint_file_final = checkpoint_file\n",
    "\n",
    "\n",
    "if os.path.isfile(checkpoint_file_final):\n",
    "    print(f'*** Loading final checkpoint file {checkpoint_file_final} instead of training')\n",
    "    saved_state = torch.load(checkpoint_file_final, map_location=device)\n",
    "    model.load_state_dict(saved_state['model_state'])\n",
    "else:\n",
    "  print('NO')\n",
    "  try:\n",
    "      # Print pre-training sampling\n",
    "      print(charnn.generate_from_model(model, \"ACT I.\", 100, (char_to_idx,idx_to_char), T=0.5))\n",
    "\n",
    "      fit_res = trainer.fit(dl_train, dl_test, 50, max_batches=None,\n",
    "                            post_epoch_fn=post_epoch_fn, early_stopping=early_stopping,\n",
    "                            checkpoints='A_new_model2', print_every=1)\n",
    "      \n",
    "      fig, axes = plot_fit(fit_res)\n",
    "  except KeyboardInterrupt as e:\n",
    "      print('\\n *** Training interrupted by user')"
   ]
  },
  {
   "cell_type": "markdown",
   "metadata": {
    "id": "nlUXj-xn2ESj"
   },
   "source": [
    "### Generating a work of art\n",
    "<a id=part1_8></a>"
   ]
  },
  {
   "cell_type": "markdown",
   "metadata": {
    "id": "xMFgvWfC2ESj"
   },
   "source": [
    "Armed with our fully trained model, let's generate the next Hamlet! You should experiment with modifying the sampling temperature and see what happens.\n",
    "\n",
    "The text you generate should “look” like a Shakespeare play:\n",
    "old-style English words and sentence structure, directions for the actors\n",
    "(like “Exit/Enter”), sections (Act I/Scene III) etc.\n",
    "There will be no coherent plot of course, but it should at least seem like\n",
    "a Shakespearean play when not looking too closely.\n",
    "If this is not what you see, go back, debug and/or and re-train.\n",
    "\n",
    "**TODO**: Specify the generation parameters in the `part1_generation_params()` function within the `hw3/answers.py` module."
   ]
  },
  {
   "cell_type": "code",
   "execution_count": 43,
   "metadata": {
    "execution": {
     "iopub.execute_input": "2021-01-22T10:38:52.374495Z",
     "iopub.status.busy": "2021-01-22T10:38:52.373804Z",
     "iopub.status.idle": "2021-01-22T10:39:11.873893Z",
     "shell.execute_reply": "2021-01-22T10:39:11.874547Z"
    },
    "id": "a8_Ddst62ESk"
   },
   "outputs": [
    {
     "name": "stdout",
     "output_type": "stream",
     "text": [
      "All the world's a stage to tae the  the sease of the eine of the sons \n",
      "And the eine  the  the seae of the sore of tour sonls,\n",
      "And to the seasth oo    the  ao the  theu stands\n",
      "And the sate to the r soose tords and the state of the wore of the seath \n",
      "\n",
      "KUCHENG RICHARD III:\n",
      "The sore of the readon  th te the e to the soaeer shauld be the soul of tour e e\n",
      "  the prose th the soul of the seall of the seave the son of the r string of the seav \n",
      " tor the  sould the staeed of the sise of the seae the seae  oo  the stare of the staen of the seath of the soare of the seae to the seath \n",
      " th the state to the sareer of the soul tear the state \n",
      "  to   the seare of the soul with tie state of tare to the seas of the  toae th the sing of the e that s ae the stare of the  to the stand \n",
      "And the saae  of the seal the sore of the soue son of torrow to the state of the seaves of the soul of the r seare of the seaves the stare \n",
      "And the  to see  the eord  and the seaves that the soare of the staee to the seall be   the soall the sear of the r sare of  the seave of the sun to the state of the state \n",
      "A CLOWN. What shall be the  aor the  to to  sonl  theu theu shalt be the sare of tae s the  toe souls to e to the son \n",
      " and teart to the soul \n",
      "\n",
      "DUKE OF YORK:\n",
      "The  ore thet to the sard of the stae  of the sore of the words oo the soars \n",
      "  the sare oo tear thee to the seave to the sease of the eort \n",
      "And the efore the e th the sortune  the sunt of the seavent of the ray oo steep to teat the world of the soul of the searows of the strength \n",
      "A CLOWN. What shall be the propen  the  with tour sonl to t the searen that the stn to e that the sord of the stare \n",
      " that the soathe\n",
      "And the pord of the seal of the state of the state of the soart of the souls of the soul \n",
      "    the e the strange of the sene of tour sorde  that the  the e the seaf of the seart of the stare of the stae of the seal of the sould of the weae of the stare of the soul \n",
      "\n",
      "DUOMERS:\n",
      "Ihe soath of tong reater to the state of the seart of the rain of the seals \n",
      "And the proee oare the searth  so   the seart of tear the  to seall be soall be a marth to the sords of the sarth of the earth of the parting \n",
      "A   te  the  the paath of the seaser of the staeed of the sease of tour sords of the  the words\n",
      "And the  theu shalt be the r stain of the sords of the seave the words of the seater of the servt of the soalt the seae of torrow to te the stare to  state of the streeds of the soul and tee son of the r sati \n",
      "And the sear  of the r seare  and the stare th the seae that the sane of toe stall bet \n",
      "And the e o  the sunstond to the  to the sarth\n",
      "\n",
      "KING RICHARD II:\n",
      "Ao  thet the state of toue \n",
      "\n",
      "BUCEN III:\n",
      "And tou shall be tor the eore the  theu art to  to the stare of the sonl of the streng \n",
      "\n",
      "KING RICHARD II:\n",
      "And the son of the soul  of the state of the  ing oo  to the  the e the sare \n",
      "And the e io stand the state of the words\n",
      "\n",
      "BOYEO:\n",
      "The propire th  souls to tand to the sine \n",
      "And te se e the seare the sunself \n",
      "f the sine \n",
      " the sore of the soul \n",
      "A   The sore of the season  to the  or the words\n",
      "\n",
      "KING RICHARD II:\n",
      "Ahe   oue to the  the  the seart the sun the stronger of tour sore \n",
      "And the soul and the seast  ao the  wilh the seart of the son of tour soul,\n",
      "\n",
      " to  the e or tour lords\n",
      "\n",
      "   The stand of the  the sore that the seae of the sorle of tour that the state of the sane of the stands\n",
      "\n",
      "KING RICHARD II:\n",
      "What is the sucheng of the soul and the e ting of the staie of the r sonl to te to e the sine of the sing \n",
      "\n",
      "KUr e of tie soul and the sing oo tour strang and the sarts \n",
      "\n",
      "KING RICHARD III:\n",
      "The eord of the sorse of the sark of tour lather shaul \n",
      "A CLOOPATRA. I will not the soare of the state \n",
      "And the  tour son to the  the earth of the stane \n",
      "And the e is the soul oe wou to e to the  the seaee \n",
      "\n",
      "\n",
      "QUEEN ELIZABETH:\n",
      "The stare of the prove e to   the stank of the sior to tee stands \n",
      "And thet tou shall be the seart of the searm \n",
      "And the peath and the suale of the sound of the seast of the rather to the sare of the sounds and the soare of the soart of tour sore of the  to the strong of the sorth \n",
      "And tear the son of the r seavtn  that tho  the state \n",
      "\n",
      "DUKE:\n",
      "Iha  shall be tour soaet  our sord of the sare of the staee of the soall thou athe sand of the staeed of the sords oo the e the e the seal the strength oo e the   re  of the rands of the son of the seare of the e the streng \n",
      "\n",
      "QUEEN ELIZABETH:\n",
      "The sord of tour lond  ao tour sone toat so ma the  to the sing \n",
      "  the soare \n",
      "And the pare of the strength of the staepge\n",
      "And she shall the  wo  the state of the seat  of the soul of the soath \n",
      " tor the  the sarth  wan so see tour sand \n",
      "And the sumber the sorth of the soue of the  tore tf the wong \n",
      "\n",
      "LURTINGH:O:\n",
      "Wha  to te the staee to e to the r sather of the eer  the strng of the strenge  of toe e ao sour lord,\n",
      "The e are  that will be so sor  the  with the siaee\n",
      "And to to the  aone of the state to   the season of the strenger \n",
      "our soae of the seart of the son of tis father \n",
      "\n",
      "  tour land and the  the sare that tou shall be the stane \n",
      "And teep the  the seav of the senvt of the sen to   to see  the state of the sonls of the start of tour lords,\n",
      "The stare s the sone of the soare \n",
      "And tear the sun to the sare of the seaves the sonns that the seal of the sorth \n",
      "A   The sent oo the soul of the sand r of the  theught \n",
      "o  the stare of the soul of the s ards \n",
      "And to the sords of the seal of the  ound oo tea to   tord \n",
      "  toe  the  to seat to tae tour soul of the seasen  \n",
      "o  to the staeth\n",
      "And the soae  of the stands that theu the  the sore of the stane \n",
      " o  toue \n",
      "And tou se the son of the  the prisence of tour \n",
      " tord th the ward \n",
      " that the suchent that the soun of the season of tie sone stand \n",
      "And the  to the street of the sears of the souls oo the s the r sane \n",
      "\n",
      "BUCKINGHAM:\n",
      "O man with the eore  and the eart  and tee sour lour stands of the soaeth\n",
      "And the  ing that the stand rf the   the sons \n",
      "nd tea  to  the stall be  the  to the courte the stall be the world of the states of the staeth of the state of the soall be so mould be toue to the seare of the soae of the soare \n",
      "And the  shall be the sing of the sere of the send of tour sand \n",
      "\n",
      "GLOUCESTER:\n",
      "The stane  ao sour lords and tour fair shale to e \n",
      "\n",
      "KING RICHARD III:\n",
      "I wilh the  th the  the sord of the sarthr\n",
      " the seas of the soall \n",
      "And theye or the staee  and the sun tf the  the e f the  oue \n",
      "  the seae \n",
      "And the seaveng with the seaveng with the state \n",
      "o the souls of the sun the sords\n",
      "And the sord of the stand of tearth an tour soare to the stns of the soare of the sun \n",
      "\n",
      "And toe the seart th the seass of the r son of the seat of the sorth,\n",
      "And to  the son of the saeath of the e ore the seat \n",
      "And te are the stand  and tour e the seav ng \n",
      "\n",
      "KING RICHARD II:\n",
      "I  to  so stand the state of the e the seave the with the sunh the start of the son toe sood oanter thathe son to the  to  te s the staess \n",
      "\n",
      "QUEEN ELIZABETH:\n",
      "You shall the stall the  ord \n",
      "\n",
      "KING RICHARD II:\n",
      "Ao stand tou  soart to the stall be the sorth of the  the stall \n",
      "ou  soat    the stall the   to r lords to the seare of the sour sonls\n",
      "A   the  wilh the senve the e the seavtng oorrows\n",
      "And the e the strrt of tonr stale to the  atter that the stall be a soul and the suall be to soae    to see tou  son,\n",
      "\n",
      "A CLOWN. What shall be tor tount the soul and the sord of the winds of toat the stare \n",
      "A   The soars on the strenge of the  are of the soave of the winds th the stands \n",
      "\n",
      "BUCKINGHAM:\n",
      "I  are the seart of the song of the  the seaves \n",
      "And toe the season of the sather that the serre shall be soall be the strange of tour sore  of tour soare th the words of the staees oo tis soare with the soul:\n",
      "Whene the seart of the saart of the staee to tee  the  the seaves of the seaves of the sorrow to the world \n",
      "o tea the start \n",
      "A   When the sea oh teart  the seart of the strong o the weare of the stare that the seat of the seal the state of the state of the seaves of the strange of the  wo e the  tour sreed \n",
      " th the tour sons and toue the strange of the  oreat \n",
      "And the saar oo the stane  f the seave  ao the season of the sons of the seall the starts of the  wo sea to stane to the staanger of the staeeght of the sather of the seavens oo the  to the seare of the son \n",
      "\n",
      "QUEEN ELIZABETH:\n",
      "An tou sae  the seaden  the state of the soare of the  the season oands\n",
      "\n",
      "KURD RICHARD III:BY:\n",
      "Ahe e sr tou  tho sorth of the stare of the soul of the sene th the wine of the e oor tour lords\n",
      "And theu the e the e the soul of the seare of tour lords to t the seast of the soul of tie seavent of the son \n",
      " the stands of the strenght to  the seart of the sather oain the country th the state of the sone sorthnes\n",
      "And the soul of the staeat to the to te  to  the e are \n",
      "\n",
      "BUCKINGHAM:\n",
      "Ihe sord  and the preve th the state of the staep of tords \n",
      "And the seavt the sort of the strength o the seavtherson of the soart of the soul of the seaves oo the seapen  oo the souere of the stands,\n",
      "And the stands of the wayt of tand of the earthe\n",
      "And the suale oo te  to the seaving thank tou are to the staees \n",
      "And the sore of the seare the son of the words \n",
      "A CLOWN. What sase the sonl   that the sone  and the  wo the seall \n",
      "o the stare of the sate of the sanger\n",
      "And te    the sord  and the seal of the soath \n",
      "And the stane tan to the strenger  and the  te tour lords \n",
      "\n",
      "DUKE OF YORK:\n",
      "The sord of the soarth o the seath of the senst r oo the state oo the r\n",
      "And the start of the proper of the soul ao the soall be tot  the  witl the start of the saater \n",
      "A   The prrt en the e the servant  the sunt of the r saate of the sather \n",
      "A   Whe sorse the soaen oa the seaven that the  the seart \n",
      "\n",
      "KUKKE OF ELH:\n",
      "What s the serve  of the stare of the sands \n",
      "And the seavther ore t the stae tha  ere the sorth of the sore of the wiae \n",
      "And the e th  stall be tour stand of the seal \n",
      " the sine of the words of the  tha sords\n",
      "And the e ore the sould of the wars of the promose oo the soeath to toue the sord oo e to  to see the soun \n",
      "\n",
      "And the streng of the  at to the son of the sore \n",
      "  tord to e to tee the stand of the seoe of the sore of\n"
     ]
    }
   ],
   "source": [
    "from hw3.answers import part1_generation_params\n",
    "\n",
    "start_seq, temperature = part1_generation_params()\n",
    "\n",
    "generated_sequence = charnn.generate_from_model(\n",
    "    model, start_seq, 10000, (char_to_idx,idx_to_char), T=temperature\n",
    ")\n",
    "\n",
    "print(generated_sequence)"
   ]
  },
  {
   "cell_type": "markdown",
   "metadata": {
    "id": "lDJZd90M2ESk"
   },
   "source": [
    "## Questions\n",
    "<a id=part1_9></a>"
   ]
  },
  {
   "cell_type": "markdown",
   "metadata": {
    "id": "5V8NjmN42ESk"
   },
   "source": [
    "**TODO** Answer the following questions. Write your answers in the appropriate variables in the module `hw3/answers.py`."
   ]
  },
  {
   "cell_type": "code",
   "execution_count": 38,
   "metadata": {
    "execution": {
     "iopub.execute_input": "2021-01-22T10:39:11.878597Z",
     "iopub.status.busy": "2021-01-22T10:39:11.877685Z",
     "iopub.status.idle": "2021-01-22T10:39:11.907005Z",
     "shell.execute_reply": "2021-01-22T10:39:11.907632Z"
    },
    "id": "6iAPW30J2ESk"
   },
   "outputs": [],
   "source": [
    "from cs3600.answers import display_answer\n",
    "import hw3.answers"
   ]
  },
  {
   "cell_type": "markdown",
   "metadata": {
    "id": "mwMROJsx2ESk"
   },
   "source": [
    "### Question 1\n",
    "Why do we split the corpus into sequences instead of training on the whole text?"
   ]
  },
  {
   "cell_type": "code",
   "execution_count": 39,
   "metadata": {
    "execution": {
     "iopub.execute_input": "2021-01-22T10:39:11.910907Z",
     "iopub.status.busy": "2021-01-22T10:39:11.910297Z",
     "iopub.status.idle": "2021-01-22T10:39:11.932056Z",
     "shell.execute_reply": "2021-01-22T10:39:11.932575Z"
    },
    "id": "Q1D2tAer2ESk"
   },
   "outputs": [
    {
     "data": {
      "text/plain": "<IPython.core.display.Markdown object>",
      "text/markdown": "\nThere are several reasons for using sequences and not the whole corpus while training. \n    1. Memory - loading the whole text and running forward and backprop on it whole require a very large amount of memory, which is unfeasible on large corpura. \n    2. Learning the right context - with very large sequences or the entire corpus as input it will be hard for the model to learn contexts of the text. \n    3. Vanishing Gradients - Running on long sequences might cause the model to fall into the vanishing gradient problem.\n     \nOf course, splitting the corpus into very small sequences (e.g. 1) might lead to overfitting.\nIf the sequence is too large then the RNN can fall into the vanishing gradient problem. To avoid this we split the data into smaller sequences.  "
     },
     "metadata": {},
     "output_type": "display_data"
    }
   ],
   "source": [
    "display_answer(hw3.answers.part1_q1)"
   ]
  },
  {
   "cell_type": "markdown",
   "metadata": {
    "id": "zZ4ZL2YM2ESl"
   },
   "source": [
    "### Question 2\n",
    "How is it possible that the generated text clearly shows memory longer than the sequence length?"
   ]
  },
  {
   "cell_type": "code",
   "execution_count": 40,
   "metadata": {
    "execution": {
     "iopub.execute_input": "2021-01-22T10:39:11.935871Z",
     "iopub.status.busy": "2021-01-22T10:39:11.935117Z",
     "iopub.status.idle": "2021-01-22T10:39:11.956627Z",
     "shell.execute_reply": "2021-01-22T10:39:11.957153Z"
    },
    "id": "usRwfx8u2ESl"
   },
   "outputs": [
    {
     "data": {
      "text/plain": "<IPython.core.display.Markdown object>",
      "text/markdown": "\n** This is due to the passing the hidden layer across sequences, as the model takes in a new sequence input \nit also takes in the hidden states of the previous input, thus the model's 'memory' could showen further \nthen the sequence length. **\n"
     },
     "metadata": {},
     "output_type": "display_data"
    }
   ],
   "source": [
    "display_answer(hw3.answers.part1_q2)"
   ]
  },
  {
   "cell_type": "markdown",
   "metadata": {
    "id": "WuuJ2Gdk2ESl"
   },
   "source": [
    "### Question 3\n",
    "Why are we not shuffling the order of batches when training?"
   ]
  },
  {
   "cell_type": "code",
   "execution_count": 41,
   "metadata": {
    "execution": {
     "iopub.execute_input": "2021-01-22T10:39:11.960170Z",
     "iopub.status.busy": "2021-01-22T10:39:11.959572Z",
     "iopub.status.idle": "2021-01-22T10:39:11.980925Z",
     "shell.execute_reply": "2021-01-22T10:39:11.981585Z"
    },
    "id": "KgA8VGkM2ESl"
   },
   "outputs": [
    {
     "data": {
      "text/plain": "<IPython.core.display.Markdown object>",
      "text/markdown": "\nWe don't shuffle the order while training because the text order has an affect on the context and so we want that order to be maintained. Otherwise we will loss the knowledge being passed by the hidden state.  \n"
     },
     "metadata": {},
     "output_type": "display_data"
    }
   ],
   "source": [
    "display_answer(hw3.answers.part1_q3)"
   ]
  },
  {
   "cell_type": "markdown",
   "metadata": {
    "id": "Ri0GWA5Z2ESl"
   },
   "source": [
    "### Question 4\n",
    "1. Why do we lower the temperature for sampling (compared to the default of $1.0$)?\n",
    "2. What happens when the temperature is very high and why?\n",
    "3. What happens when the temperature is very low and why?"
   ]
  },
  {
   "cell_type": "code",
   "execution_count": 30,
   "metadata": {
    "execution": {
     "iopub.execute_input": "2021-01-22T10:39:11.985407Z",
     "iopub.status.busy": "2021-01-22T10:39:11.984773Z",
     "iopub.status.idle": "2021-01-22T10:39:12.007777Z",
     "shell.execute_reply": "2021-01-22T10:39:12.008441Z"
    },
    "id": "sBe30h762ESl"
   },
   "outputs": [
    {
     "data": {
      "text/plain": "<IPython.core.display.Markdown object>",
      "text/markdown": "\n1. The tempature hyperparameter affects the probablities of the chars from the softmax. During training we want the model to choose the most likely chars and by lowering the tempature we are giving a higher probability to those chars.  \n2. When the tempature is very high there tends to be more mistakes but there is also more diversity. \n3. When we lower the tempature we our increasing our models's confidence but also causing it to be more conservative in it's samples because it sticks to the more probable possiblities. When the tempature approaches 0 it is most likely to get stuck in an infinite loop, this happens because your model becomes very confident and doesn't diversify the text. \n"
     },
     "metadata": {},
     "output_type": "display_data"
    }
   ],
   "source": [
    "display_answer(hw3.answers.part1_q4)"
   ]
  }
 ],
 "metadata": {
  "kernelspec": {
   "name": "pycharm-b9ffc24f",
   "language": "python",
   "display_name": "PyCharm (DL_class)"
  },
  "language_info": {
   "codemirror_mode": {
    "name": "ipython",
    "version": 3
   },
   "file_extension": ".py",
   "mimetype": "text/x-python",
   "name": "python",
   "nbconvert_exporter": "python",
   "pygments_lexer": "ipython3",
   "version": "3.8.6"
  },
  "colab": {
   "name": "Part1_Sequence.ipynb",
   "provenance": []
  },
  "accelerator": "GPU"
 },
 "nbformat": 4,
 "nbformat_minor": 0
}